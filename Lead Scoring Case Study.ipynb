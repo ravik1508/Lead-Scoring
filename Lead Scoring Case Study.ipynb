{
 "cells": [
  {
   "cell_type": "markdown",
   "id": "4cdd65c1-84f8-4105-93c9-02f906ee9869",
   "metadata": {},
   "source": [
    "#  Lead Scoring Case Study"
   ]
  },
  {
   "cell_type": "markdown",
   "id": "9390e311-7ed2-4903-b892-c35b68a65d9e",
   "metadata": {},
   "source": [
    "### Steps\r\n",
    "- Importing the libraries\r\n",
    "- Loading the dataset\r\n",
    "- Understanding the problem statement\r\n",
    "- Data understanding\r\n",
    "- Missing value check\r\n",
    "- EDA\r\n",
    "- Preprocessing - Dummy creation\r\n",
    "- Train-Test Split\r\n",
    "- Scaling\r\n",
    "- Feature Selection - RFE\r\n",
    "- Modeling\r\n",
    "- Manual Feature selection \r\n",
    "- Model evaluation "
   ]
  },
  {
   "cell_type": "markdown",
   "id": "52e06a2b-3fde-40ae-8018-f1ef9a4bbe51",
   "metadata": {},
   "source": [
    "### Importing the libraries"
   ]
  },
  {
   "cell_type": "code",
   "execution_count": 4266,
   "id": "e0fee4da-3cba-43b6-af6f-cf3ce0777d31",
   "metadata": {},
   "outputs": [],
   "source": [
    "### Libraries for Data Analysis and numerical functions\n",
    "import numpy      as np\n",
    "import pandas     as pd\n",
    "\n",
    "### Libraries for Data visualization\n",
    "import matplotlib.pyplot as plt\n",
    "import seaborn           as sns\n",
    "\n",
    "### Supress warnings\n",
    "import warnings\n",
    "warnings.filterwarnings(\"ignore\")\n",
    "\n",
    "### Logistic regression Libraries\n",
    "import statsmodels\n",
    "import statsmodels.api    as sm\n",
    "from   statsmodels.stats.outliers_influence  import variance_inflation_factor\n",
    "\n",
    "### Sci-kit Libraries\n",
    "import sklearn\n",
    "from   sklearn.linear_model      import  LogisticRegression\n",
    "from   sklearn.preprocessing     import  StandardScaler\n",
    "from   sklearn.preprocessing     import  MinMaxScaler\n",
    "from   sklearn.feature_selection import  RFE\n",
    "from   sklearn.model_selection   import  train_test_split\n",
    "\n",
    "### Libraries for Mectrics\n",
    "from   sklearn                   import  metrics\n",
    "from   sklearn.metrics           import  r2_score\n",
    "from   sklearn.metrics           import  precision_score, recall_score\n",
    "from   sklearn.metrics           import  precision_recall_curve\n",
    "from   sklearn.metrics           import  roc_curve"
   ]
  },
  {
   "cell_type": "markdown",
   "id": "ff4423a8-f445-4139-8b66-1eeae295a053",
   "metadata": {},
   "source": [
    "### Loading the dataset"
   ]
  },
  {
   "cell_type": "code",
   "execution_count": 4268,
   "id": "f2af4ddd-3140-4433-a7a9-2fffee24b06f",
   "metadata": {},
   "outputs": [
    {
     "data": {
      "text/html": [
       "<div>\n",
       "<style scoped>\n",
       "    .dataframe tbody tr th:only-of-type {\n",
       "        vertical-align: middle;\n",
       "    }\n",
       "\n",
       "    .dataframe tbody tr th {\n",
       "        vertical-align: top;\n",
       "    }\n",
       "\n",
       "    .dataframe thead th {\n",
       "        text-align: right;\n",
       "    }\n",
       "</style>\n",
       "<table border=\"1\" class=\"dataframe\">\n",
       "  <thead>\n",
       "    <tr style=\"text-align: right;\">\n",
       "      <th></th>\n",
       "      <th>Prospect ID</th>\n",
       "      <th>Lead Number</th>\n",
       "      <th>Lead Origin</th>\n",
       "      <th>Lead Source</th>\n",
       "      <th>Do Not Email</th>\n",
       "      <th>Do Not Call</th>\n",
       "      <th>Converted</th>\n",
       "      <th>TotalVisits</th>\n",
       "      <th>Total Time Spent on Website</th>\n",
       "      <th>Page Views Per Visit</th>\n",
       "      <th>...</th>\n",
       "      <th>Get updates on DM Content</th>\n",
       "      <th>Lead Profile</th>\n",
       "      <th>City</th>\n",
       "      <th>Asymmetrique Activity Index</th>\n",
       "      <th>Asymmetrique Profile Index</th>\n",
       "      <th>Asymmetrique Activity Score</th>\n",
       "      <th>Asymmetrique Profile Score</th>\n",
       "      <th>I agree to pay the amount through cheque</th>\n",
       "      <th>A free copy of Mastering The Interview</th>\n",
       "      <th>Last Notable Activity</th>\n",
       "    </tr>\n",
       "  </thead>\n",
       "  <tbody>\n",
       "    <tr>\n",
       "      <th>0</th>\n",
       "      <td>7927b2df-8bba-4d29-b9a2-b6e0beafe620</td>\n",
       "      <td>660737</td>\n",
       "      <td>API</td>\n",
       "      <td>Olark Chat</td>\n",
       "      <td>No</td>\n",
       "      <td>No</td>\n",
       "      <td>0</td>\n",
       "      <td>0.0</td>\n",
       "      <td>0</td>\n",
       "      <td>0.0</td>\n",
       "      <td>...</td>\n",
       "      <td>No</td>\n",
       "      <td>Select</td>\n",
       "      <td>Select</td>\n",
       "      <td>02.Medium</td>\n",
       "      <td>02.Medium</td>\n",
       "      <td>15.0</td>\n",
       "      <td>15.0</td>\n",
       "      <td>No</td>\n",
       "      <td>No</td>\n",
       "      <td>Modified</td>\n",
       "    </tr>\n",
       "    <tr>\n",
       "      <th>1</th>\n",
       "      <td>2a272436-5132-4136-86fa-dcc88c88f482</td>\n",
       "      <td>660728</td>\n",
       "      <td>API</td>\n",
       "      <td>Organic Search</td>\n",
       "      <td>No</td>\n",
       "      <td>No</td>\n",
       "      <td>0</td>\n",
       "      <td>5.0</td>\n",
       "      <td>674</td>\n",
       "      <td>2.5</td>\n",
       "      <td>...</td>\n",
       "      <td>No</td>\n",
       "      <td>Select</td>\n",
       "      <td>Select</td>\n",
       "      <td>02.Medium</td>\n",
       "      <td>02.Medium</td>\n",
       "      <td>15.0</td>\n",
       "      <td>15.0</td>\n",
       "      <td>No</td>\n",
       "      <td>No</td>\n",
       "      <td>Email Opened</td>\n",
       "    </tr>\n",
       "    <tr>\n",
       "      <th>2</th>\n",
       "      <td>8cc8c611-a219-4f35-ad23-fdfd2656bd8a</td>\n",
       "      <td>660727</td>\n",
       "      <td>Landing Page Submission</td>\n",
       "      <td>Direct Traffic</td>\n",
       "      <td>No</td>\n",
       "      <td>No</td>\n",
       "      <td>1</td>\n",
       "      <td>2.0</td>\n",
       "      <td>1532</td>\n",
       "      <td>2.0</td>\n",
       "      <td>...</td>\n",
       "      <td>No</td>\n",
       "      <td>Potential Lead</td>\n",
       "      <td>Mumbai</td>\n",
       "      <td>02.Medium</td>\n",
       "      <td>01.High</td>\n",
       "      <td>14.0</td>\n",
       "      <td>20.0</td>\n",
       "      <td>No</td>\n",
       "      <td>Yes</td>\n",
       "      <td>Email Opened</td>\n",
       "    </tr>\n",
       "    <tr>\n",
       "      <th>3</th>\n",
       "      <td>0cc2df48-7cf4-4e39-9de9-19797f9b38cc</td>\n",
       "      <td>660719</td>\n",
       "      <td>Landing Page Submission</td>\n",
       "      <td>Direct Traffic</td>\n",
       "      <td>No</td>\n",
       "      <td>No</td>\n",
       "      <td>0</td>\n",
       "      <td>1.0</td>\n",
       "      <td>305</td>\n",
       "      <td>1.0</td>\n",
       "      <td>...</td>\n",
       "      <td>No</td>\n",
       "      <td>Select</td>\n",
       "      <td>Mumbai</td>\n",
       "      <td>02.Medium</td>\n",
       "      <td>01.High</td>\n",
       "      <td>13.0</td>\n",
       "      <td>17.0</td>\n",
       "      <td>No</td>\n",
       "      <td>No</td>\n",
       "      <td>Modified</td>\n",
       "    </tr>\n",
       "    <tr>\n",
       "      <th>4</th>\n",
       "      <td>3256f628-e534-4826-9d63-4a8b88782852</td>\n",
       "      <td>660681</td>\n",
       "      <td>Landing Page Submission</td>\n",
       "      <td>Google</td>\n",
       "      <td>No</td>\n",
       "      <td>No</td>\n",
       "      <td>1</td>\n",
       "      <td>2.0</td>\n",
       "      <td>1428</td>\n",
       "      <td>1.0</td>\n",
       "      <td>...</td>\n",
       "      <td>No</td>\n",
       "      <td>Select</td>\n",
       "      <td>Mumbai</td>\n",
       "      <td>02.Medium</td>\n",
       "      <td>01.High</td>\n",
       "      <td>15.0</td>\n",
       "      <td>18.0</td>\n",
       "      <td>No</td>\n",
       "      <td>No</td>\n",
       "      <td>Modified</td>\n",
       "    </tr>\n",
       "  </tbody>\n",
       "</table>\n",
       "<p>5 rows × 37 columns</p>\n",
       "</div>"
      ],
      "text/plain": [
       "                            Prospect ID  Lead Number              Lead Origin  \\\n",
       "0  7927b2df-8bba-4d29-b9a2-b6e0beafe620       660737                      API   \n",
       "1  2a272436-5132-4136-86fa-dcc88c88f482       660728                      API   \n",
       "2  8cc8c611-a219-4f35-ad23-fdfd2656bd8a       660727  Landing Page Submission   \n",
       "3  0cc2df48-7cf4-4e39-9de9-19797f9b38cc       660719  Landing Page Submission   \n",
       "4  3256f628-e534-4826-9d63-4a8b88782852       660681  Landing Page Submission   \n",
       "\n",
       "      Lead Source Do Not Email Do Not Call  Converted  TotalVisits  \\\n",
       "0      Olark Chat           No          No          0          0.0   \n",
       "1  Organic Search           No          No          0          5.0   \n",
       "2  Direct Traffic           No          No          1          2.0   \n",
       "3  Direct Traffic           No          No          0          1.0   \n",
       "4          Google           No          No          1          2.0   \n",
       "\n",
       "   Total Time Spent on Website  Page Views Per Visit  ...  \\\n",
       "0                            0                   0.0  ...   \n",
       "1                          674                   2.5  ...   \n",
       "2                         1532                   2.0  ...   \n",
       "3                          305                   1.0  ...   \n",
       "4                         1428                   1.0  ...   \n",
       "\n",
       "  Get updates on DM Content    Lead Profile    City  \\\n",
       "0                        No          Select  Select   \n",
       "1                        No          Select  Select   \n",
       "2                        No  Potential Lead  Mumbai   \n",
       "3                        No          Select  Mumbai   \n",
       "4                        No          Select  Mumbai   \n",
       "\n",
       "  Asymmetrique Activity Index Asymmetrique Profile Index  \\\n",
       "0                   02.Medium                  02.Medium   \n",
       "1                   02.Medium                  02.Medium   \n",
       "2                   02.Medium                    01.High   \n",
       "3                   02.Medium                    01.High   \n",
       "4                   02.Medium                    01.High   \n",
       "\n",
       "  Asymmetrique Activity Score Asymmetrique Profile Score  \\\n",
       "0                        15.0                       15.0   \n",
       "1                        15.0                       15.0   \n",
       "2                        14.0                       20.0   \n",
       "3                        13.0                       17.0   \n",
       "4                        15.0                       18.0   \n",
       "\n",
       "  I agree to pay the amount through cheque  \\\n",
       "0                                       No   \n",
       "1                                       No   \n",
       "2                                       No   \n",
       "3                                       No   \n",
       "4                                       No   \n",
       "\n",
       "  A free copy of Mastering The Interview Last Notable Activity  \n",
       "0                                     No              Modified  \n",
       "1                                     No          Email Opened  \n",
       "2                                    Yes          Email Opened  \n",
       "3                                     No              Modified  \n",
       "4                                     No              Modified  \n",
       "\n",
       "[5 rows x 37 columns]"
      ]
     },
     "execution_count": 4268,
     "metadata": {},
     "output_type": "execute_result"
    }
   ],
   "source": [
    "Leads = pd.read_csv(\"Leads.csv\")\n",
    "Leads.head()"
   ]
  },
  {
   "cell_type": "markdown",
   "id": "21142f23-c4a9-4157-b513-92cd1c519b95",
   "metadata": {},
   "source": [
    "### Problem Statement:\n",
    "Select the most promising Leads for the online Education platform, that are most likely to convert into paying customers. The company requires to build a model where in you need to assign a lead score to each of the leads such that the customers with higher lead score have a higher conversion chance and the customers with lower score have a lower conversion rate. The target lead conversion rate is expected to be around 80%."
   ]
  },
  {
   "cell_type": "markdown",
   "id": "7465e4e0-5b94-4b08-9c3d-e8ed900079af",
   "metadata": {},
   "source": [
    "#### Understanding the data"
   ]
  },
  {
   "cell_type": "code",
   "execution_count": 4271,
   "id": "75fd8be3-8a27-4ea2-88d8-41ba382f6d4d",
   "metadata": {},
   "outputs": [
    {
     "data": {
      "text/plain": [
       "(9240, 37)"
      ]
     },
     "execution_count": 4271,
     "metadata": {},
     "output_type": "execute_result"
    }
   ],
   "source": [
    "Leads.shape"
   ]
  },
  {
   "cell_type": "code",
   "execution_count": 4272,
   "id": "cb5d73e3-dd87-4ddb-bf20-2097d4415132",
   "metadata": {},
   "outputs": [
    {
     "name": "stdout",
     "output_type": "stream",
     "text": [
      "<class 'pandas.core.frame.DataFrame'>\n",
      "RangeIndex: 9240 entries, 0 to 9239\n",
      "Data columns (total 37 columns):\n",
      " #   Column                                         Non-Null Count  Dtype  \n",
      "---  ------                                         --------------  -----  \n",
      " 0   Prospect ID                                    9240 non-null   object \n",
      " 1   Lead Number                                    9240 non-null   int64  \n",
      " 2   Lead Origin                                    9240 non-null   object \n",
      " 3   Lead Source                                    9204 non-null   object \n",
      " 4   Do Not Email                                   9240 non-null   object \n",
      " 5   Do Not Call                                    9240 non-null   object \n",
      " 6   Converted                                      9240 non-null   int64  \n",
      " 7   TotalVisits                                    9103 non-null   float64\n",
      " 8   Total Time Spent on Website                    9240 non-null   int64  \n",
      " 9   Page Views Per Visit                           9103 non-null   float64\n",
      " 10  Last Activity                                  9137 non-null   object \n",
      " 11  Country                                        6779 non-null   object \n",
      " 12  Specialization                                 7802 non-null   object \n",
      " 13  How did you hear about X Education             7033 non-null   object \n",
      " 14  What is your current occupation                6550 non-null   object \n",
      " 15  What matters most to you in choosing a course  6531 non-null   object \n",
      " 16  Search                                         9240 non-null   object \n",
      " 17  Magazine                                       9240 non-null   object \n",
      " 18  Newspaper Article                              9240 non-null   object \n",
      " 19  X Education Forums                             9240 non-null   object \n",
      " 20  Newspaper                                      9240 non-null   object \n",
      " 21  Digital Advertisement                          9240 non-null   object \n",
      " 22  Through Recommendations                        9240 non-null   object \n",
      " 23  Receive More Updates About Our Courses         9240 non-null   object \n",
      " 24  Tags                                           5887 non-null   object \n",
      " 25  Lead Quality                                   4473 non-null   object \n",
      " 26  Update me on Supply Chain Content              9240 non-null   object \n",
      " 27  Get updates on DM Content                      9240 non-null   object \n",
      " 28  Lead Profile                                   6531 non-null   object \n",
      " 29  City                                           7820 non-null   object \n",
      " 30  Asymmetrique Activity Index                    5022 non-null   object \n",
      " 31  Asymmetrique Profile Index                     5022 non-null   object \n",
      " 32  Asymmetrique Activity Score                    5022 non-null   float64\n",
      " 33  Asymmetrique Profile Score                     5022 non-null   float64\n",
      " 34  I agree to pay the amount through cheque       9240 non-null   object \n",
      " 35  A free copy of Mastering The Interview         9240 non-null   object \n",
      " 36  Last Notable Activity                          9240 non-null   object \n",
      "dtypes: float64(4), int64(3), object(30)\n",
      "memory usage: 2.6+ MB\n"
     ]
    }
   ],
   "source": [
    "Leads.info()"
   ]
  },
  {
   "cell_type": "markdown",
   "id": "0c2de539-c995-4b36-8f46-a5d9284c5385",
   "metadata": {},
   "source": [
    "#### Checking missing values"
   ]
  },
  {
   "cell_type": "code",
   "execution_count": 4274,
   "id": "b0f3018b-7a0a-44f4-80c7-6b6181515bce",
   "metadata": {},
   "outputs": [
    {
     "name": "stdout",
     "output_type": "stream",
     "text": [
      "Tags                           36.287879\n",
      "Lead Quality                   51.590909\n",
      "Asymmetrique Activity Index    45.649351\n",
      "Asymmetrique Profile Index     45.649351\n",
      "Asymmetrique Activity Score    45.649351\n",
      "Asymmetrique Profile Score     45.649351\n",
      "dtype: float64\n"
     ]
    }
   ],
   "source": [
    "def null_percentage(column):\n",
    "    return column.isnull().mean() * 100\n",
    "\n",
    "Leads_null = Leads.apply(null_percentage)\n",
    "Leads_null = Leads_null[Leads_null > 30]\n",
    "print(Leads_null)"
   ]
  },
  {
   "cell_type": "code",
   "execution_count": 4275,
   "id": "8e6faede-99c2-4f9b-aa8f-5380d05ccdc9",
   "metadata": {},
   "outputs": [],
   "source": [
    "### Drop columns having missing values greater than 30% of the data\n",
    "drop_null_cols = Leads_null.index\n",
    "Leads.drop(columns=drop_null_cols, axis=1, inplace=True)"
   ]
  },
  {
   "cell_type": "code",
   "execution_count": 4276,
   "id": "6417d79a-0702-4c2e-bf29-0dde48d1bebb",
   "metadata": {},
   "outputs": [
    {
     "data": {
      "text/plain": [
       "(9240, 31)"
      ]
     },
     "execution_count": 4276,
     "metadata": {},
     "output_type": "execute_result"
    }
   ],
   "source": [
    "### Shape of the dataset after dropping columns greater than 30% null values\n",
    "Leads.shape"
   ]
  },
  {
   "cell_type": "code",
   "execution_count": 4277,
   "id": "e19454c7-2250-4dfb-a560-55d3b1f9e4c0",
   "metadata": {},
   "outputs": [
    {
     "name": "stdout",
     "output_type": "stream",
     "text": [
      "What matters most to you in choosing a course    29.318182\n",
      "Lead Profile                                     29.318182\n",
      "What is your current occupation                  29.112554\n",
      "Country                                          26.634199\n",
      "How did you hear about X Education               23.885281\n",
      "Specialization                                   15.562771\n",
      "City                                             15.367965\n",
      "TotalVisits                                       1.482684\n",
      "Page Views Per Visit                              1.482684\n",
      "Last Activity                                     1.114719\n",
      "Lead Source                                       0.389610\n",
      "dtype: float64\n"
     ]
    }
   ],
   "source": [
    "Leads_null = Leads.apply(null_percentage)\n",
    "Leads_null = Leads_null[Leads_null > 0].sort_values(ascending=False)\n",
    "print(Leads_null)"
   ]
  },
  {
   "cell_type": "code",
   "execution_count": 4278,
   "id": "1bc7e1c7-6565-41d2-b355-2b36c61aaf74",
   "metadata": {},
   "outputs": [
    {
     "name": "stdout",
     "output_type": "stream",
     "text": [
      "What matters most to you in choosing a course\n",
      "Better Career Prospects      6528\n",
      "Flexibility & Convenience       2\n",
      "Other                           1\n",
      "Name: count, dtype: int64\n",
      "__________________________________________________\n",
      "Lead Profile\n",
      "Select                         4146\n",
      "Potential Lead                 1613\n",
      "Other Leads                     487\n",
      "Student of SomeSchool           241\n",
      "Lateral Student                  24\n",
      "Dual Specialization Student      20\n",
      "Name: count, dtype: int64\n",
      "__________________________________________________\n",
      "What is your current occupation\n",
      "Unemployed              5600\n",
      "Working Professional     706\n",
      "Student                  210\n",
      "Other                     16\n",
      "Housewife                 10\n",
      "Businessman                8\n",
      "Name: count, dtype: int64\n",
      "__________________________________________________\n",
      "Country\n",
      "India                   6492\n",
      "United States             69\n",
      "United Arab Emirates      53\n",
      "Singapore                 24\n",
      "Saudi Arabia              21\n",
      "United Kingdom            15\n",
      "Australia                 13\n",
      "Qatar                     10\n",
      "Hong Kong                  7\n",
      "Bahrain                    7\n",
      "Oman                       6\n",
      "France                     6\n",
      "unknown                    5\n",
      "South Africa               4\n",
      "Nigeria                    4\n",
      "Germany                    4\n",
      "Kuwait                     4\n",
      "Canada                     4\n",
      "Sweden                     3\n",
      "China                      2\n",
      "Asia/Pacific Region        2\n",
      "Uganda                     2\n",
      "Bangladesh                 2\n",
      "Italy                      2\n",
      "Belgium                    2\n",
      "Netherlands                2\n",
      "Ghana                      2\n",
      "Philippines                2\n",
      "Russia                     1\n",
      "Switzerland                1\n",
      "Vietnam                    1\n",
      "Denmark                    1\n",
      "Tanzania                   1\n",
      "Liberia                    1\n",
      "Malaysia                   1\n",
      "Kenya                      1\n",
      "Sri Lanka                  1\n",
      "Indonesia                  1\n",
      "Name: count, dtype: int64\n",
      "__________________________________________________\n",
      "How did you hear about X Education\n",
      "Select                   5043\n",
      "Online Search             808\n",
      "Word Of Mouth             348\n",
      "Student of SomeSchool     310\n",
      "Other                     186\n",
      "Multiple Sources          152\n",
      "Advertisements             70\n",
      "Social Media               67\n",
      "Email                      26\n",
      "SMS                        23\n",
      "Name: count, dtype: int64\n",
      "__________________________________________________\n",
      "Specialization\n",
      "Select                               1942\n",
      "Finance Management                    976\n",
      "Human Resource Management             848\n",
      "Marketing Management                  838\n",
      "Operations Management                 503\n",
      "Business Administration               403\n",
      "IT Projects Management                366\n",
      "Supply Chain Management               349\n",
      "Banking, Investment And Insurance     338\n",
      "Travel and Tourism                    203\n",
      "Media and Advertising                 203\n",
      "International Business                178\n",
      "Healthcare Management                 159\n",
      "Hospitality Management                114\n",
      "E-COMMERCE                            112\n",
      "Retail Management                     100\n",
      "Rural and Agribusiness                 73\n",
      "E-Business                             57\n",
      "Services Excellence                    40\n",
      "Name: count, dtype: int64\n",
      "__________________________________________________\n",
      "City\n",
      "Mumbai                         3222\n",
      "Select                         2249\n",
      "Thane & Outskirts               752\n",
      "Other Cities                    686\n",
      "Other Cities of Maharashtra     457\n",
      "Other Metro Cities              380\n",
      "Tier II Cities                   74\n",
      "Name: count, dtype: int64\n",
      "__________________________________________________\n",
      "TotalVisits\n",
      "0.0      2189\n",
      "2.0      1680\n",
      "3.0      1306\n",
      "4.0      1120\n",
      "5.0       783\n",
      "6.0       466\n",
      "1.0       395\n",
      "7.0       309\n",
      "8.0       224\n",
      "9.0       164\n",
      "10.0      114\n",
      "11.0       86\n",
      "13.0       48\n",
      "12.0       45\n",
      "14.0       36\n",
      "16.0       21\n",
      "15.0       18\n",
      "17.0       16\n",
      "18.0       15\n",
      "20.0       12\n",
      "19.0        9\n",
      "21.0        6\n",
      "23.0        6\n",
      "24.0        5\n",
      "25.0        5\n",
      "27.0        5\n",
      "22.0        3\n",
      "29.0        2\n",
      "28.0        2\n",
      "26.0        2\n",
      "141.0       1\n",
      "55.0        1\n",
      "30.0        1\n",
      "43.0        1\n",
      "74.0        1\n",
      "41.0        1\n",
      "54.0        1\n",
      "115.0       1\n",
      "251.0       1\n",
      "32.0        1\n",
      "42.0        1\n",
      "Name: count, dtype: int64\n",
      "__________________________________________________\n",
      "Page Views Per Visit\n",
      "0.00    2189\n",
      "2.00    1795\n",
      "3.00    1196\n",
      "4.00     896\n",
      "1.00     651\n",
      "        ... \n",
      "3.43       1\n",
      "2.56       1\n",
      "6.33       1\n",
      "1.64       1\n",
      "2.08       1\n",
      "Name: count, Length: 114, dtype: int64\n",
      "__________________________________________________\n",
      "Last Activity\n",
      "Email Opened                    3437\n",
      "SMS Sent                        2745\n",
      "Olark Chat Conversation          973\n",
      "Page Visited on Website          640\n",
      "Converted to Lead                428\n",
      "Email Bounced                    326\n",
      "Email Link Clicked               267\n",
      "Form Submitted on Website        116\n",
      "Unreachable                       93\n",
      "Unsubscribed                      61\n",
      "Had a Phone Conversation          30\n",
      "Approached upfront                 9\n",
      "View in browser link Clicked       6\n",
      "Email Received                     2\n",
      "Email Marked Spam                  2\n",
      "Visited Booth in Tradeshow         1\n",
      "Resubscribed to emails             1\n",
      "Name: count, dtype: int64\n",
      "__________________________________________________\n",
      "Lead Source\n",
      "Google               2868\n",
      "Direct Traffic       2543\n",
      "Olark Chat           1755\n",
      "Organic Search       1154\n",
      "Reference             534\n",
      "Welingak Website      142\n",
      "Referral Sites        125\n",
      "Facebook               55\n",
      "bing                    6\n",
      "google                  5\n",
      "Click2call              4\n",
      "Press_Release           2\n",
      "Social Media            2\n",
      "Live Chat               2\n",
      "youtubechannel          1\n",
      "testone                 1\n",
      "Pay per Click Ads       1\n",
      "welearnblog_Home        1\n",
      "WeLearn                 1\n",
      "blog                    1\n",
      "NC_EDM                  1\n",
      "Name: count, dtype: int64\n",
      "__________________________________________________\n"
     ]
    }
   ],
   "source": [
    "for i in Leads_null.index:\n",
    "    col_det = Leads[i].value_counts()\n",
    "    print(col_det)\n",
    "    print('_'*50)"
   ]
  },
  {
   "cell_type": "code",
   "execution_count": 4279,
   "id": "9a0935f9-7833-4a49-9047-b3ee876a208d",
   "metadata": {},
   "outputs": [],
   "source": [
    "### Some of the features are having level as 'Select', it means the details was not provided and this can also be treated as missing.\n",
    "### Dropping features which have high missing values.  \n",
    "Leads = Leads.drop([\"What matters most to you in choosing a course\", \"Lead Profile\", \"How did you hear about X Education\"], axis=1)"
   ]
  },
  {
   "cell_type": "code",
   "execution_count": 4280,
   "id": "99da646c-c4f0-4fc6-8708-960dc0f02476",
   "metadata": {},
   "outputs": [
    {
     "name": "stdout",
     "output_type": "stream",
     "text": [
      "What is your current occupation    29.112554\n",
      "Country                            26.634199\n",
      "Specialization                     15.562771\n",
      "City                               15.367965\n",
      "TotalVisits                         1.482684\n",
      "Page Views Per Visit                1.482684\n",
      "Last Activity                       1.114719\n",
      "Lead Source                         0.389610\n",
      "dtype: float64\n"
     ]
    }
   ],
   "source": [
    "def null_percentage(column):\n",
    "    return column.isnull().mean() * 100\n",
    "\n",
    "Leads_null = Leads.apply(null_percentage)\n",
    "Leads_null = Leads_null[Leads_null > 0].sort_values(ascending=False)\n",
    "print(Leads_null)"
   ]
  },
  {
   "cell_type": "code",
   "execution_count": 4281,
   "id": "79631930-4358-43f6-82ee-206ccb860638",
   "metadata": {},
   "outputs": [],
   "source": [
    "#### The feature, \"What is your current occupation\" is having high missing values.  The rows having missing values can be dropped.\n",
    "Leads = Leads[~(Leads[\"What is your current occupation\"].isnull())]"
   ]
  },
  {
   "cell_type": "code",
   "execution_count": 4282,
   "id": "2b21e3e8-9955-4d85-8c75-d1a2deccc046",
   "metadata": {},
   "outputs": [
    {
     "data": {
      "text/plain": [
       "Prospect ID                                    0\n",
       "Lead Number                                    0\n",
       "Lead Origin                                    0\n",
       "Lead Source                                   36\n",
       "Do Not Email                                   0\n",
       "Do Not Call                                    0\n",
       "Converted                                      0\n",
       "TotalVisits                                  130\n",
       "Total Time Spent on Website                    0\n",
       "Page Views Per Visit                         130\n",
       "Last Activity                                103\n",
       "Country                                     1605\n",
       "Specialization                                18\n",
       "What is your current occupation                0\n",
       "Search                                         0\n",
       "Magazine                                       0\n",
       "Newspaper Article                              0\n",
       "X Education Forums                             0\n",
       "Newspaper                                      0\n",
       "Digital Advertisement                          0\n",
       "Through Recommendations                        0\n",
       "Receive More Updates About Our Courses         0\n",
       "Update me on Supply Chain Content              0\n",
       "Get updates on DM Content                      0\n",
       "City                                           0\n",
       "I agree to pay the amount through cheque       0\n",
       "A free copy of Mastering The Interview         0\n",
       "Last Notable Activity                          0\n",
       "dtype: int64"
      ]
     },
     "execution_count": 4282,
     "metadata": {},
     "output_type": "execute_result"
    }
   ],
   "source": [
    "Leads.isnull().sum()"
   ]
  },
  {
   "cell_type": "code",
   "execution_count": 4283,
   "id": "5051641f-81ad-4530-a8ec-6b09863f3176",
   "metadata": {},
   "outputs": [],
   "source": [
    "### The feature \"Page Views Per Visit\" is having 130 missing values. These rows can be dropped\n",
    "Leads = Leads[~(Leads[\"Page Views Per Visit\"].isnull())]"
   ]
  },
  {
   "cell_type": "code",
   "execution_count": 4284,
   "id": "94e887f6-f650-4f52-acc5-274594cb51cb",
   "metadata": {},
   "outputs": [
    {
     "data": {
      "text/plain": [
       "Prospect ID                                    0\n",
       "Lead Number                                    0\n",
       "Lead Origin                                    0\n",
       "Lead Source                                   29\n",
       "Do Not Email                                   0\n",
       "Do Not Call                                    0\n",
       "Converted                                      0\n",
       "TotalVisits                                    0\n",
       "Total Time Spent on Website                    0\n",
       "Page Views Per Visit                           0\n",
       "Last Activity                                  0\n",
       "Country                                     1475\n",
       "Specialization                                18\n",
       "What is your current occupation                0\n",
       "Search                                         0\n",
       "Magazine                                       0\n",
       "Newspaper Article                              0\n",
       "X Education Forums                             0\n",
       "Newspaper                                      0\n",
       "Digital Advertisement                          0\n",
       "Through Recommendations                        0\n",
       "Receive More Updates About Our Courses         0\n",
       "Update me on Supply Chain Content              0\n",
       "Get updates on DM Content                      0\n",
       "City                                           0\n",
       "I agree to pay the amount through cheque       0\n",
       "A free copy of Mastering The Interview         0\n",
       "Last Notable Activity                          0\n",
       "dtype: int64"
      ]
     },
     "execution_count": 4284,
     "metadata": {},
     "output_type": "execute_result"
    }
   ],
   "source": [
    "Leads.isnull().sum()"
   ]
  },
  {
   "cell_type": "code",
   "execution_count": 4285,
   "id": "75715328-aa0c-4636-bcaf-1f508e6cb510",
   "metadata": {},
   "outputs": [
    {
     "data": {
      "text/plain": [
       "(6420, 28)"
      ]
     },
     "execution_count": 4285,
     "metadata": {},
     "output_type": "execute_result"
    }
   ],
   "source": [
    "Leads.shape"
   ]
  },
  {
   "cell_type": "code",
   "execution_count": 4286,
   "id": "1cbd53be-b6f4-48b2-9c7c-42c485d11754",
   "metadata": {},
   "outputs": [],
   "source": [
    "#### Feature, \"Lead Source\" is having 29 missing values. These rows can be dropped\n",
    "Leads = Leads[~(Leads[\"Lead Source\"].isnull())]"
   ]
  },
  {
   "cell_type": "code",
   "execution_count": 4287,
   "id": "ab30acd3-3592-4059-b2b5-6988e5f311dc",
   "metadata": {},
   "outputs": [
    {
     "data": {
      "text/plain": [
       "Prospect ID                                    0\n",
       "Lead Number                                    0\n",
       "Lead Origin                                    0\n",
       "Lead Source                                    0\n",
       "Do Not Email                                   0\n",
       "Do Not Call                                    0\n",
       "Converted                                      0\n",
       "TotalVisits                                    0\n",
       "Total Time Spent on Website                    0\n",
       "Page Views Per Visit                           0\n",
       "Last Activity                                  0\n",
       "Country                                     1447\n",
       "Specialization                                18\n",
       "What is your current occupation                0\n",
       "Search                                         0\n",
       "Magazine                                       0\n",
       "Newspaper Article                              0\n",
       "X Education Forums                             0\n",
       "Newspaper                                      0\n",
       "Digital Advertisement                          0\n",
       "Through Recommendations                        0\n",
       "Receive More Updates About Our Courses         0\n",
       "Update me on Supply Chain Content              0\n",
       "Get updates on DM Content                      0\n",
       "City                                           0\n",
       "I agree to pay the amount through cheque       0\n",
       "A free copy of Mastering The Interview         0\n",
       "Last Notable Activity                          0\n",
       "dtype: int64"
      ]
     },
     "execution_count": 4287,
     "metadata": {},
     "output_type": "execute_result"
    }
   ],
   "source": [
    "Leads.isnull().sum()"
   ]
  },
  {
   "cell_type": "code",
   "execution_count": 4288,
   "id": "514583ea-4ca5-40db-87a0-dc5bd0998119",
   "metadata": {},
   "outputs": [],
   "source": [
    "### Feature, \"Specialization\" is having 18 missing values. These rows can be dropped\n",
    "Leads = Leads[~(Leads[\"Specialization\"].isnull())]"
   ]
  },
  {
   "cell_type": "code",
   "execution_count": 4289,
   "id": "092b01bd-c590-46f0-9fec-4110654fe072",
   "metadata": {},
   "outputs": [
    {
     "data": {
      "text/plain": [
       "Prospect ID                                    0\n",
       "Lead Number                                    0\n",
       "Lead Origin                                    0\n",
       "Lead Source                                    0\n",
       "Do Not Email                                   0\n",
       "Do Not Call                                    0\n",
       "Converted                                      0\n",
       "TotalVisits                                    0\n",
       "Total Time Spent on Website                    0\n",
       "Page Views Per Visit                           0\n",
       "Last Activity                                  0\n",
       "Country                                     1447\n",
       "Specialization                                 0\n",
       "What is your current occupation                0\n",
       "Search                                         0\n",
       "Magazine                                       0\n",
       "Newspaper Article                              0\n",
       "X Education Forums                             0\n",
       "Newspaper                                      0\n",
       "Digital Advertisement                          0\n",
       "Through Recommendations                        0\n",
       "Receive More Updates About Our Courses         0\n",
       "Update me on Supply Chain Content              0\n",
       "Get updates on DM Content                      0\n",
       "City                                           0\n",
       "I agree to pay the amount through cheque       0\n",
       "A free copy of Mastering The Interview         0\n",
       "Last Notable Activity                          0\n",
       "dtype: int64"
      ]
     },
     "execution_count": 4289,
     "metadata": {},
     "output_type": "execute_result"
    }
   ],
   "source": [
    "Leads.isnull().sum()"
   ]
  },
  {
   "cell_type": "code",
   "execution_count": 4290,
   "id": "f4016a15-178a-4b39-9ecb-2e005ca358ce",
   "metadata": {},
   "outputs": [
    {
     "data": {
      "text/plain": [
       "(6373, 28)"
      ]
     },
     "execution_count": 4290,
     "metadata": {},
     "output_type": "execute_result"
    }
   ],
   "source": [
    "Leads.shape"
   ]
  },
  {
   "cell_type": "code",
   "execution_count": 4291,
   "id": "390b346a-35ca-46ad-aea4-e868f4c4d22a",
   "metadata": {},
   "outputs": [],
   "source": [
    "### The X company is mainly focusing on online education, so location of the student does not matter much.\n",
    "### So the columns, \"Country\" & \"City\" can be dropped\n",
    "Leads = Leads.drop([\"Country\", \"City\"], axis=1)"
   ]
  },
  {
   "cell_type": "code",
   "execution_count": 4292,
   "id": "d1a96a80-3ad0-4ff0-a61e-e6e977d114da",
   "metadata": {},
   "outputs": [
    {
     "data": {
      "text/plain": [
       "Prospect ID                                 0\n",
       "Lead Number                                 0\n",
       "Lead Origin                                 0\n",
       "Lead Source                                 0\n",
       "Do Not Email                                0\n",
       "Do Not Call                                 0\n",
       "Converted                                   0\n",
       "TotalVisits                                 0\n",
       "Total Time Spent on Website                 0\n",
       "Page Views Per Visit                        0\n",
       "Last Activity                               0\n",
       "Specialization                              0\n",
       "What is your current occupation             0\n",
       "Search                                      0\n",
       "Magazine                                    0\n",
       "Newspaper Article                           0\n",
       "X Education Forums                          0\n",
       "Newspaper                                   0\n",
       "Digital Advertisement                       0\n",
       "Through Recommendations                     0\n",
       "Receive More Updates About Our Courses      0\n",
       "Update me on Supply Chain Content           0\n",
       "Get updates on DM Content                   0\n",
       "I agree to pay the amount through cheque    0\n",
       "A free copy of Mastering The Interview      0\n",
       "Last Notable Activity                       0\n",
       "dtype: int64"
      ]
     },
     "execution_count": 4292,
     "metadata": {},
     "output_type": "execute_result"
    }
   ],
   "source": [
    "Leads.isnull().sum()"
   ]
  },
  {
   "cell_type": "code",
   "execution_count": 4293,
   "id": "d9948559-1cde-4ba6-b453-3879a35a6cfe",
   "metadata": {},
   "outputs": [],
   "source": [
    "### Features \"Prospect ID\" and \"Lead number' are unique and is not necessary for model building so dropping them.\n",
    "Leads = Leads.drop([\"Prospect ID\", \"Lead Number\"], axis=1)"
   ]
  },
  {
   "cell_type": "code",
   "execution_count": 4294,
   "id": "0bb426a4-69da-449f-b4a6-7069e3703c06",
   "metadata": {},
   "outputs": [
    {
     "data": {
      "text/plain": [
       "(6373, 24)"
      ]
     },
     "execution_count": 4294,
     "metadata": {},
     "output_type": "execute_result"
    }
   ],
   "source": [
    "Leads.shape"
   ]
  },
  {
   "cell_type": "code",
   "execution_count": 4295,
   "id": "c14fa336-f118-43fe-baa3-cf1e763e607b",
   "metadata": {},
   "outputs": [
    {
     "name": "stdout",
     "output_type": "stream",
     "text": [
      "Lead Origin\n",
      "Landing Page Submission    3625\n",
      "API                        2140\n",
      "Lead Add Form               581\n",
      "Lead Import                  27\n",
      "Name: count, dtype: int64\n",
      "__________________________________________________\n",
      "Lead Source\n",
      "Google               2048\n",
      "Direct Traffic       1873\n",
      "Olark Chat            892\n",
      "Organic Search        870\n",
      "Reference             443\n",
      "Welingak Website      129\n",
      "Referral Sites         75\n",
      "Facebook               28\n",
      "Click2call              4\n",
      "bing                    3\n",
      "Social Media            2\n",
      "Live Chat               2\n",
      "Pay per Click Ads       1\n",
      "WeLearn                 1\n",
      "testone                 1\n",
      "Press_Release           1\n",
      "Name: count, dtype: int64\n",
      "__________________________________________________\n",
      "Do Not Email\n",
      "No     5938\n",
      "Yes     435\n",
      "Name: count, dtype: int64\n",
      "__________________________________________________\n",
      "Do Not Call\n",
      "No     6371\n",
      "Yes       2\n",
      "Name: count, dtype: int64\n",
      "__________________________________________________\n",
      "Converted\n",
      "0    3308\n",
      "1    3065\n",
      "Name: count, dtype: int64\n",
      "__________________________________________________\n",
      "TotalVisits\n",
      "0.0      1347\n",
      "2.0      1225\n",
      "3.0       937\n",
      "4.0       823\n",
      "5.0       578\n",
      "6.0       337\n",
      "1.0       260\n",
      "7.0       225\n",
      "8.0       162\n",
      "9.0       128\n",
      "10.0       76\n",
      "11.0       70\n",
      "13.0       39\n",
      "12.0       31\n",
      "14.0       28\n",
      "16.0       16\n",
      "15.0       14\n",
      "17.0       12\n",
      "18.0       12\n",
      "20.0       10\n",
      "19.0        6\n",
      "21.0        5\n",
      "23.0        5\n",
      "27.0        5\n",
      "25.0        3\n",
      "24.0        3\n",
      "22.0        3\n",
      "29.0        2\n",
      "26.0        2\n",
      "30.0        1\n",
      "55.0        1\n",
      "43.0        1\n",
      "74.0        1\n",
      "115.0       1\n",
      "251.0       1\n",
      "32.0        1\n",
      "28.0        1\n",
      "42.0        1\n",
      "Name: count, dtype: int64\n",
      "__________________________________________________\n",
      "Total Time Spent on Website\n",
      "0       1351\n",
      "60        15\n",
      "127       14\n",
      "96        13\n",
      "87        13\n",
      "        ... \n",
      "1589       1\n",
      "628        1\n",
      "1150       1\n",
      "922        1\n",
      "1944       1\n",
      "Name: count, Length: 1613, dtype: int64\n",
      "__________________________________________________\n",
      "Page Views Per Visit\n",
      "0.00     1347\n",
      "2.00     1324\n",
      "3.00      874\n",
      "4.00      659\n",
      "1.00      423\n",
      "         ... \n",
      "2.56        1\n",
      "4.75        1\n",
      "16.00       1\n",
      "6.33        1\n",
      "2.08        1\n",
      "Name: count, Length: 107, dtype: int64\n",
      "__________________________________________________\n",
      "Last Activity\n",
      "Email Opened                    2455\n",
      "SMS Sent                        2189\n",
      "Olark Chat Conversation          428\n",
      "Page Visited on Website          427\n",
      "Converted to Lead                292\n",
      "Email Link Clicked               178\n",
      "Email Bounced                    175\n",
      "Form Submitted on Website         81\n",
      "Unreachable                       71\n",
      "Unsubscribed                      40\n",
      "Had a Phone Conversation          23\n",
      "Approached upfront                 5\n",
      "View in browser link Clicked       4\n",
      "Email Received                     2\n",
      "Email Marked Spam                  2\n",
      "Visited Booth in Tradeshow         1\n",
      "Name: count, dtype: int64\n",
      "__________________________________________________\n",
      "Specialization\n",
      "Select                               1838\n",
      "Finance Management                    745\n",
      "Human Resource Management             665\n",
      "Marketing Management                  663\n",
      "Operations Management                 391\n",
      "Business Administration               310\n",
      "IT Projects Management                278\n",
      "Supply Chain Management               275\n",
      "Banking, Investment And Insurance     266\n",
      "Media and Advertising                 161\n",
      "Travel and Tourism                    149\n",
      "International Business                136\n",
      "Healthcare Management                 122\n",
      "Hospitality Management                 90\n",
      "E-COMMERCE                             80\n",
      "Retail Management                      78\n",
      "Rural and Agribusiness                 58\n",
      "E-Business                             43\n",
      "Services Excellence                    25\n",
      "Name: count, dtype: int64\n",
      "__________________________________________________\n",
      "What is your current occupation\n",
      "Unemployed              5476\n",
      "Working Professional     673\n",
      "Student                  193\n",
      "Other                     15\n",
      "Housewife                  9\n",
      "Businessman                7\n",
      "Name: count, dtype: int64\n",
      "__________________________________________________\n",
      "Search\n",
      "No     6363\n",
      "Yes      10\n",
      "Name: count, dtype: int64\n",
      "__________________________________________________\n",
      "Magazine\n",
      "No    6373\n",
      "Name: count, dtype: int64\n",
      "__________________________________________________\n",
      "Newspaper Article\n",
      "No     6372\n",
      "Yes       1\n",
      "Name: count, dtype: int64\n",
      "__________________________________________________\n",
      "X Education Forums\n",
      "No    6373\n",
      "Name: count, dtype: int64\n",
      "__________________________________________________\n",
      "Newspaper\n",
      "No     6372\n",
      "Yes       1\n",
      "Name: count, dtype: int64\n",
      "__________________________________________________\n",
      "Digital Advertisement\n",
      "No     6370\n",
      "Yes       3\n",
      "Name: count, dtype: int64\n",
      "__________________________________________________\n",
      "Through Recommendations\n",
      "No     6367\n",
      "Yes       6\n",
      "Name: count, dtype: int64\n",
      "__________________________________________________\n",
      "Receive More Updates About Our Courses\n",
      "No    6373\n",
      "Name: count, dtype: int64\n",
      "__________________________________________________\n",
      "Update me on Supply Chain Content\n",
      "No    6373\n",
      "Name: count, dtype: int64\n",
      "__________________________________________________\n",
      "Get updates on DM Content\n",
      "No    6373\n",
      "Name: count, dtype: int64\n",
      "__________________________________________________\n",
      "I agree to pay the amount through cheque\n",
      "No    6373\n",
      "Name: count, dtype: int64\n",
      "__________________________________________________\n",
      "A free copy of Mastering The Interview\n",
      "No     4202\n",
      "Yes    2171\n",
      "Name: count, dtype: int64\n",
      "__________________________________________________\n",
      "Last Notable Activity\n",
      "Email Opened                    2038\n",
      "Modified                        1947\n",
      "SMS Sent                        1869\n",
      "Page Visited on Website          213\n",
      "Email Link Clicked               110\n",
      "Olark Chat Conversation           76\n",
      "Email Bounced                     49\n",
      "Unsubscribed                      31\n",
      "Unreachable                       22\n",
      "Had a Phone Conversation          13\n",
      "Email Marked Spam                  2\n",
      "Approached upfront                 1\n",
      "View in browser link Clicked       1\n",
      "Email Received                     1\n",
      "Name: count, dtype: int64\n",
      "__________________________________________________\n"
     ]
    }
   ],
   "source": [
    "for i in Leads.columns:\n",
    "    col_det = Leads[i].value_counts()\n",
    "    print(col_det)\n",
    "    print('_'*50)"
   ]
  },
  {
   "cell_type": "code",
   "execution_count": 4296,
   "id": "3d2b4a7c-1f3b-4d19-a28b-2bb1f91702da",
   "metadata": {},
   "outputs": [],
   "source": [
    "### Features having no or less variation does not offer good insights in model building. Such features can be dropped\n",
    "drop_cols = [\"Do Not Call\", \"Search\", \"Magazine\", \"Newspaper Article\", \"X Education Forums\", \"Newspaper\", \n",
    "             \"Digital Advertisement\", \"Through Recommendations\", \"Receive More Updates About Our Courses\",\n",
    "             \"Update me on Supply Chain Content\", \"Get updates on DM Content\", \"I agree to pay the amount through cheque\"]\n",
    "\n",
    "Leads = Leads.drop(drop_cols, axis=1)"
   ]
  },
  {
   "cell_type": "code",
   "execution_count": 4297,
   "id": "532b3efc-2464-4a0b-ba82-670b96ea662b",
   "metadata": {},
   "outputs": [
    {
     "data": {
      "text/plain": [
       "(6373, 12)"
      ]
     },
     "execution_count": 4297,
     "metadata": {},
     "output_type": "execute_result"
    }
   ],
   "source": [
    "Leads.shape"
   ]
  },
  {
   "cell_type": "code",
   "execution_count": 4298,
   "id": "b4bb03f5-1cd7-47a2-8a04-1711476c6cb4",
   "metadata": {},
   "outputs": [
    {
     "data": {
      "text/plain": [
       "Index(['Lead Origin', 'Lead Source', 'Do Not Email', 'Converted',\n",
       "       'TotalVisits', 'Total Time Spent on Website', 'Page Views Per Visit',\n",
       "       'Last Activity', 'Specialization', 'What is your current occupation',\n",
       "       'A free copy of Mastering The Interview', 'Last Notable Activity'],\n",
       "      dtype='object')"
      ]
     },
     "execution_count": 4298,
     "metadata": {},
     "output_type": "execute_result"
    }
   ],
   "source": [
    "Leads.columns"
   ]
  },
  {
   "cell_type": "markdown",
   "id": "c8d9255a-01f7-4e3c-b43a-19b6f3595acb",
   "metadata": {},
   "source": [
    "#### Data Preparation/Preprocessing"
   ]
  },
  {
   "cell_type": "markdown",
   "id": "88661eeb-d61d-46ed-a086-f89e6a718834",
   "metadata": {},
   "source": [
    "#### Create dummy variables for categorical columns with multiple levels"
   ]
  },
  {
   "cell_type": "code",
   "execution_count": 4301,
   "id": "3a026db4-962d-439f-a09d-895c0f7f4abf",
   "metadata": {},
   "outputs": [
    {
     "name": "stdout",
     "output_type": "stream",
     "text": [
      "['Lead Origin', 'Lead Source', 'Do Not Email', 'Last Activity', 'Specialization', 'What is your current occupation', 'A free copy of Mastering The Interview', 'Last Notable Activity']\n"
     ]
    }
   ],
   "source": [
    "dummy_list = Leads.columns[Leads.dtypes == 'object'].tolist()\n",
    "print(dummy_list)"
   ]
  },
  {
   "cell_type": "code",
   "execution_count": 4302,
   "id": "07ec190c-383e-4c49-8ebb-a708fb684d3e",
   "metadata": {},
   "outputs": [],
   "source": [
    "Leads = Leads.rename(columns={\"What is your current occupation\": \"Occupation\",\n",
    "                              \"A free copy of Mastering The Interview\": \"Mastering_Interview\"})"
   ]
  },
  {
   "cell_type": "code",
   "execution_count": 4303,
   "id": "914504bf-d751-4c0c-ad16-bf853b3e7c95",
   "metadata": {},
   "outputs": [],
   "source": [
    "dummy_var = pd.get_dummies(Leads[['Lead Origin', 'Lead Source', 'Do Not Email', 'Last Activity', \n",
    "                                  'Occupation', 'Mastering_Interview', \n",
    "                                  'Last Notable Activity']], dtype=int, drop_first=True)"
   ]
  },
  {
   "cell_type": "code",
   "execution_count": 4304,
   "id": "ed051578-d395-4c67-b757-6c947cffd933",
   "metadata": {},
   "outputs": [],
   "source": [
    "Leads_Transformed = pd.concat([Leads, dummy_var], axis=1)"
   ]
  },
  {
   "cell_type": "code",
   "execution_count": 4305,
   "id": "472bf13f-d2d8-41f0-b6e3-1210ad3b7b45",
   "metadata": {},
   "outputs": [],
   "source": [
    "dummy_spl = pd.get_dummies(Leads[\"Specialization\"], prefix=\"Specialization\", drop_first=True, dtype=int)\n",
    "dummy_spl = dummy_spl.drop(\"Specialization_Select\", axis=1)\n",
    "Leads_Transformed = pd.concat([Leads_Transformed, dummy_spl], axis=1)"
   ]
  },
  {
   "cell_type": "code",
   "execution_count": 4306,
   "id": "92a2563d-0465-4a47-9208-d01121e65a91",
   "metadata": {},
   "outputs": [
    {
     "data": {
      "text/plain": [
       "(6373, 82)"
      ]
     },
     "execution_count": 4306,
     "metadata": {},
     "output_type": "execute_result"
    }
   ],
   "source": [
    "Leads_Transformed.shape"
   ]
  },
  {
   "cell_type": "code",
   "execution_count": 4307,
   "id": "33d3e215-e909-40ce-954d-d5c2b6dec476",
   "metadata": {},
   "outputs": [
    {
     "data": {
      "text/html": [
       "<div>\n",
       "<style scoped>\n",
       "    .dataframe tbody tr th:only-of-type {\n",
       "        vertical-align: middle;\n",
       "    }\n",
       "\n",
       "    .dataframe tbody tr th {\n",
       "        vertical-align: top;\n",
       "    }\n",
       "\n",
       "    .dataframe thead th {\n",
       "        text-align: right;\n",
       "    }\n",
       "</style>\n",
       "<table border=\"1\" class=\"dataframe\">\n",
       "  <thead>\n",
       "    <tr style=\"text-align: right;\">\n",
       "      <th></th>\n",
       "      <th>Converted</th>\n",
       "      <th>TotalVisits</th>\n",
       "      <th>Total Time Spent on Website</th>\n",
       "      <th>Page Views Per Visit</th>\n",
       "      <th>Lead Origin_Landing Page Submission</th>\n",
       "      <th>Lead Origin_Lead Add Form</th>\n",
       "      <th>Lead Origin_Lead Import</th>\n",
       "      <th>Lead Source_Direct Traffic</th>\n",
       "      <th>Lead Source_Facebook</th>\n",
       "      <th>Lead Source_Google</th>\n",
       "      <th>...</th>\n",
       "      <th>Specialization_IT Projects Management</th>\n",
       "      <th>Specialization_International Business</th>\n",
       "      <th>Specialization_Marketing Management</th>\n",
       "      <th>Specialization_Media and Advertising</th>\n",
       "      <th>Specialization_Operations Management</th>\n",
       "      <th>Specialization_Retail Management</th>\n",
       "      <th>Specialization_Rural and Agribusiness</th>\n",
       "      <th>Specialization_Services Excellence</th>\n",
       "      <th>Specialization_Supply Chain Management</th>\n",
       "      <th>Specialization_Travel and Tourism</th>\n",
       "    </tr>\n",
       "  </thead>\n",
       "  <tbody>\n",
       "    <tr>\n",
       "      <th>0</th>\n",
       "      <td>0</td>\n",
       "      <td>0.0</td>\n",
       "      <td>0</td>\n",
       "      <td>0.0</td>\n",
       "      <td>0</td>\n",
       "      <td>0</td>\n",
       "      <td>0</td>\n",
       "      <td>0</td>\n",
       "      <td>0</td>\n",
       "      <td>0</td>\n",
       "      <td>...</td>\n",
       "      <td>0</td>\n",
       "      <td>0</td>\n",
       "      <td>0</td>\n",
       "      <td>0</td>\n",
       "      <td>0</td>\n",
       "      <td>0</td>\n",
       "      <td>0</td>\n",
       "      <td>0</td>\n",
       "      <td>0</td>\n",
       "      <td>0</td>\n",
       "    </tr>\n",
       "    <tr>\n",
       "      <th>1</th>\n",
       "      <td>0</td>\n",
       "      <td>5.0</td>\n",
       "      <td>674</td>\n",
       "      <td>2.5</td>\n",
       "      <td>0</td>\n",
       "      <td>0</td>\n",
       "      <td>0</td>\n",
       "      <td>0</td>\n",
       "      <td>0</td>\n",
       "      <td>0</td>\n",
       "      <td>...</td>\n",
       "      <td>0</td>\n",
       "      <td>0</td>\n",
       "      <td>0</td>\n",
       "      <td>0</td>\n",
       "      <td>0</td>\n",
       "      <td>0</td>\n",
       "      <td>0</td>\n",
       "      <td>0</td>\n",
       "      <td>0</td>\n",
       "      <td>0</td>\n",
       "    </tr>\n",
       "    <tr>\n",
       "      <th>2</th>\n",
       "      <td>1</td>\n",
       "      <td>2.0</td>\n",
       "      <td>1532</td>\n",
       "      <td>2.0</td>\n",
       "      <td>1</td>\n",
       "      <td>0</td>\n",
       "      <td>0</td>\n",
       "      <td>1</td>\n",
       "      <td>0</td>\n",
       "      <td>0</td>\n",
       "      <td>...</td>\n",
       "      <td>0</td>\n",
       "      <td>0</td>\n",
       "      <td>0</td>\n",
       "      <td>0</td>\n",
       "      <td>0</td>\n",
       "      <td>0</td>\n",
       "      <td>0</td>\n",
       "      <td>0</td>\n",
       "      <td>0</td>\n",
       "      <td>0</td>\n",
       "    </tr>\n",
       "    <tr>\n",
       "      <th>3</th>\n",
       "      <td>0</td>\n",
       "      <td>1.0</td>\n",
       "      <td>305</td>\n",
       "      <td>1.0</td>\n",
       "      <td>1</td>\n",
       "      <td>0</td>\n",
       "      <td>0</td>\n",
       "      <td>1</td>\n",
       "      <td>0</td>\n",
       "      <td>0</td>\n",
       "      <td>...</td>\n",
       "      <td>0</td>\n",
       "      <td>0</td>\n",
       "      <td>0</td>\n",
       "      <td>1</td>\n",
       "      <td>0</td>\n",
       "      <td>0</td>\n",
       "      <td>0</td>\n",
       "      <td>0</td>\n",
       "      <td>0</td>\n",
       "      <td>0</td>\n",
       "    </tr>\n",
       "    <tr>\n",
       "      <th>4</th>\n",
       "      <td>1</td>\n",
       "      <td>2.0</td>\n",
       "      <td>1428</td>\n",
       "      <td>1.0</td>\n",
       "      <td>1</td>\n",
       "      <td>0</td>\n",
       "      <td>0</td>\n",
       "      <td>0</td>\n",
       "      <td>0</td>\n",
       "      <td>1</td>\n",
       "      <td>...</td>\n",
       "      <td>0</td>\n",
       "      <td>0</td>\n",
       "      <td>0</td>\n",
       "      <td>0</td>\n",
       "      <td>0</td>\n",
       "      <td>0</td>\n",
       "      <td>0</td>\n",
       "      <td>0</td>\n",
       "      <td>0</td>\n",
       "      <td>0</td>\n",
       "    </tr>\n",
       "  </tbody>\n",
       "</table>\n",
       "<p>5 rows × 74 columns</p>\n",
       "</div>"
      ],
      "text/plain": [
       "   Converted  TotalVisits  Total Time Spent on Website  Page Views Per Visit  \\\n",
       "0          0          0.0                            0                   0.0   \n",
       "1          0          5.0                          674                   2.5   \n",
       "2          1          2.0                         1532                   2.0   \n",
       "3          0          1.0                          305                   1.0   \n",
       "4          1          2.0                         1428                   1.0   \n",
       "\n",
       "   Lead Origin_Landing Page Submission  Lead Origin_Lead Add Form  \\\n",
       "0                                    0                          0   \n",
       "1                                    0                          0   \n",
       "2                                    1                          0   \n",
       "3                                    1                          0   \n",
       "4                                    1                          0   \n",
       "\n",
       "   Lead Origin_Lead Import  Lead Source_Direct Traffic  Lead Source_Facebook  \\\n",
       "0                        0                           0                     0   \n",
       "1                        0                           0                     0   \n",
       "2                        0                           1                     0   \n",
       "3                        0                           1                     0   \n",
       "4                        0                           0                     0   \n",
       "\n",
       "   Lead Source_Google  ...  Specialization_IT Projects Management  \\\n",
       "0                   0  ...                                      0   \n",
       "1                   0  ...                                      0   \n",
       "2                   0  ...                                      0   \n",
       "3                   0  ...                                      0   \n",
       "4                   1  ...                                      0   \n",
       "\n",
       "   Specialization_International Business  Specialization_Marketing Management  \\\n",
       "0                                      0                                    0   \n",
       "1                                      0                                    0   \n",
       "2                                      0                                    0   \n",
       "3                                      0                                    0   \n",
       "4                                      0                                    0   \n",
       "\n",
       "   Specialization_Media and Advertising  Specialization_Operations Management  \\\n",
       "0                                     0                                     0   \n",
       "1                                     0                                     0   \n",
       "2                                     0                                     0   \n",
       "3                                     1                                     0   \n",
       "4                                     0                                     0   \n",
       "\n",
       "   Specialization_Retail Management  Specialization_Rural and Agribusiness  \\\n",
       "0                                 0                                      0   \n",
       "1                                 0                                      0   \n",
       "2                                 0                                      0   \n",
       "3                                 0                                      0   \n",
       "4                                 0                                      0   \n",
       "\n",
       "   Specialization_Services Excellence  Specialization_Supply Chain Management  \\\n",
       "0                                   0                                       0   \n",
       "1                                   0                                       0   \n",
       "2                                   0                                       0   \n",
       "3                                   0                                       0   \n",
       "4                                   0                                       0   \n",
       "\n",
       "   Specialization_Travel and Tourism  \n",
       "0                                  0  \n",
       "1                                  0  \n",
       "2                                  0  \n",
       "3                                  0  \n",
       "4                                  0  \n",
       "\n",
       "[5 rows x 74 columns]"
      ]
     },
     "execution_count": 4307,
     "metadata": {},
     "output_type": "execute_result"
    }
   ],
   "source": [
    "Leads_Transformed = Leads_Transformed.drop(Leads[['Lead Origin', 'Lead Source', 'Do Not Email', 'Last Activity', \n",
    "                                            'Occupation', 'Mastering_Interview', 'Specialization',\n",
    "                                            'Last Notable Activity']], axis=1)\n",
    "Leads_Transformed.head()"
   ]
  },
  {
   "cell_type": "markdown",
   "id": "df0abe1c-8841-4719-92b1-4121825d9f2f",
   "metadata": {},
   "source": [
    "### Model building procedure"
   ]
  },
  {
   "cell_type": "markdown",
   "id": "20869088-e84e-48b4-85d3-1597ee17bc86",
   "metadata": {},
   "source": [
    "### Train-Test Split"
   ]
  },
  {
   "cell_type": "code",
   "execution_count": 4310,
   "id": "f413fd73-d5ed-4436-a480-42542693f7a2",
   "metadata": {},
   "outputs": [],
   "source": [
    "### creating X & y \n",
    "X = Leads_Transformed.drop(\"Converted\", axis=1)\n",
    "y = Leads_Transformed[\"Converted\"]"
   ]
  },
  {
   "cell_type": "code",
   "execution_count": 4311,
   "id": "1e655eaf-626a-4cd7-89f1-cb5b0e2e75e3",
   "metadata": {},
   "outputs": [],
   "source": [
    "X_train, X_test, y_train, y_test = train_test_split(X, y, test_size=0.2, random_state=100)"
   ]
  },
  {
   "cell_type": "code",
   "execution_count": 4312,
   "id": "d6156306-c8a3-4b2f-93ec-de30db796155",
   "metadata": {},
   "outputs": [
    {
     "name": "stdout",
     "output_type": "stream",
     "text": [
      "Train dataset size:  (5098, 73)\n",
      "Test dataset size:   (1275, 73)\n"
     ]
    }
   ],
   "source": [
    "print(\"Train dataset size: \", X_train.shape)\n",
    "print(\"Test dataset size:  \", X_test.shape)"
   ]
  },
  {
   "cell_type": "markdown",
   "id": "bdcc2825-b7cb-4798-a189-9f8610908bac",
   "metadata": {},
   "source": [
    "### Scaling"
   ]
  },
  {
   "cell_type": "code",
   "execution_count": 4314,
   "id": "dba5bee4-b117-46b2-bc8a-8650a1323544",
   "metadata": {},
   "outputs": [
    {
     "data": {
      "text/html": [
       "<div>\n",
       "<style scoped>\n",
       "    .dataframe tbody tr th:only-of-type {\n",
       "        vertical-align: middle;\n",
       "    }\n",
       "\n",
       "    .dataframe tbody tr th {\n",
       "        vertical-align: top;\n",
       "    }\n",
       "\n",
       "    .dataframe thead th {\n",
       "        text-align: right;\n",
       "    }\n",
       "</style>\n",
       "<table border=\"1\" class=\"dataframe\">\n",
       "  <thead>\n",
       "    <tr style=\"text-align: right;\">\n",
       "      <th></th>\n",
       "      <th>TotalVisits</th>\n",
       "      <th>Total Time Spent on Website</th>\n",
       "      <th>Page Views Per Visit</th>\n",
       "      <th>Lead Origin_Landing Page Submission</th>\n",
       "      <th>Lead Origin_Lead Add Form</th>\n",
       "      <th>Lead Origin_Lead Import</th>\n",
       "      <th>Lead Source_Direct Traffic</th>\n",
       "      <th>Lead Source_Facebook</th>\n",
       "      <th>Lead Source_Google</th>\n",
       "      <th>Lead Source_Live Chat</th>\n",
       "      <th>...</th>\n",
       "      <th>Specialization_IT Projects Management</th>\n",
       "      <th>Specialization_International Business</th>\n",
       "      <th>Specialization_Marketing Management</th>\n",
       "      <th>Specialization_Media and Advertising</th>\n",
       "      <th>Specialization_Operations Management</th>\n",
       "      <th>Specialization_Retail Management</th>\n",
       "      <th>Specialization_Rural and Agribusiness</th>\n",
       "      <th>Specialization_Services Excellence</th>\n",
       "      <th>Specialization_Supply Chain Management</th>\n",
       "      <th>Specialization_Travel and Tourism</th>\n",
       "    </tr>\n",
       "  </thead>\n",
       "  <tbody>\n",
       "    <tr>\n",
       "      <th>4719</th>\n",
       "      <td>0.019920</td>\n",
       "      <td>0.632042</td>\n",
       "      <td>0.15625</td>\n",
       "      <td>1</td>\n",
       "      <td>0</td>\n",
       "      <td>0</td>\n",
       "      <td>0</td>\n",
       "      <td>0</td>\n",
       "      <td>1</td>\n",
       "      <td>0</td>\n",
       "      <td>...</td>\n",
       "      <td>0</td>\n",
       "      <td>0</td>\n",
       "      <td>0</td>\n",
       "      <td>0</td>\n",
       "      <td>0</td>\n",
       "      <td>0</td>\n",
       "      <td>0</td>\n",
       "      <td>0</td>\n",
       "      <td>0</td>\n",
       "      <td>0</td>\n",
       "    </tr>\n",
       "    <tr>\n",
       "      <th>4453</th>\n",
       "      <td>0.007968</td>\n",
       "      <td>0.693222</td>\n",
       "      <td>0.12500</td>\n",
       "      <td>1</td>\n",
       "      <td>0</td>\n",
       "      <td>0</td>\n",
       "      <td>1</td>\n",
       "      <td>0</td>\n",
       "      <td>0</td>\n",
       "      <td>0</td>\n",
       "      <td>...</td>\n",
       "      <td>0</td>\n",
       "      <td>0</td>\n",
       "      <td>0</td>\n",
       "      <td>0</td>\n",
       "      <td>0</td>\n",
       "      <td>0</td>\n",
       "      <td>0</td>\n",
       "      <td>0</td>\n",
       "      <td>0</td>\n",
       "      <td>0</td>\n",
       "    </tr>\n",
       "    <tr>\n",
       "      <th>5770</th>\n",
       "      <td>0.000000</td>\n",
       "      <td>0.000000</td>\n",
       "      <td>0.00000</td>\n",
       "      <td>0</td>\n",
       "      <td>0</td>\n",
       "      <td>0</td>\n",
       "      <td>0</td>\n",
       "      <td>0</td>\n",
       "      <td>0</td>\n",
       "      <td>0</td>\n",
       "      <td>...</td>\n",
       "      <td>0</td>\n",
       "      <td>0</td>\n",
       "      <td>0</td>\n",
       "      <td>0</td>\n",
       "      <td>0</td>\n",
       "      <td>0</td>\n",
       "      <td>0</td>\n",
       "      <td>0</td>\n",
       "      <td>0</td>\n",
       "      <td>0</td>\n",
       "    </tr>\n",
       "    <tr>\n",
       "      <th>1774</th>\n",
       "      <td>0.011952</td>\n",
       "      <td>0.556338</td>\n",
       "      <td>0.18750</td>\n",
       "      <td>1</td>\n",
       "      <td>0</td>\n",
       "      <td>0</td>\n",
       "      <td>0</td>\n",
       "      <td>0</td>\n",
       "      <td>0</td>\n",
       "      <td>0</td>\n",
       "      <td>...</td>\n",
       "      <td>0</td>\n",
       "      <td>0</td>\n",
       "      <td>0</td>\n",
       "      <td>0</td>\n",
       "      <td>0</td>\n",
       "      <td>0</td>\n",
       "      <td>0</td>\n",
       "      <td>0</td>\n",
       "      <td>0</td>\n",
       "      <td>0</td>\n",
       "    </tr>\n",
       "    <tr>\n",
       "      <th>403</th>\n",
       "      <td>0.007968</td>\n",
       "      <td>0.558099</td>\n",
       "      <td>0.12500</td>\n",
       "      <td>0</td>\n",
       "      <td>0</td>\n",
       "      <td>0</td>\n",
       "      <td>0</td>\n",
       "      <td>0</td>\n",
       "      <td>1</td>\n",
       "      <td>0</td>\n",
       "      <td>...</td>\n",
       "      <td>0</td>\n",
       "      <td>0</td>\n",
       "      <td>0</td>\n",
       "      <td>0</td>\n",
       "      <td>0</td>\n",
       "      <td>0</td>\n",
       "      <td>0</td>\n",
       "      <td>0</td>\n",
       "      <td>0</td>\n",
       "      <td>0</td>\n",
       "    </tr>\n",
       "  </tbody>\n",
       "</table>\n",
       "<p>5 rows × 73 columns</p>\n",
       "</div>"
      ],
      "text/plain": [
       "      TotalVisits  Total Time Spent on Website  Page Views Per Visit  \\\n",
       "4719     0.019920                     0.632042               0.15625   \n",
       "4453     0.007968                     0.693222               0.12500   \n",
       "5770     0.000000                     0.000000               0.00000   \n",
       "1774     0.011952                     0.556338               0.18750   \n",
       "403      0.007968                     0.558099               0.12500   \n",
       "\n",
       "      Lead Origin_Landing Page Submission  Lead Origin_Lead Add Form  \\\n",
       "4719                                    1                          0   \n",
       "4453                                    1                          0   \n",
       "5770                                    0                          0   \n",
       "1774                                    1                          0   \n",
       "403                                     0                          0   \n",
       "\n",
       "      Lead Origin_Lead Import  Lead Source_Direct Traffic  \\\n",
       "4719                        0                           0   \n",
       "4453                        0                           1   \n",
       "5770                        0                           0   \n",
       "1774                        0                           0   \n",
       "403                         0                           0   \n",
       "\n",
       "      Lead Source_Facebook  Lead Source_Google  Lead Source_Live Chat  ...  \\\n",
       "4719                     0                   1                      0  ...   \n",
       "4453                     0                   0                      0  ...   \n",
       "5770                     0                   0                      0  ...   \n",
       "1774                     0                   0                      0  ...   \n",
       "403                      0                   1                      0  ...   \n",
       "\n",
       "      Specialization_IT Projects Management  \\\n",
       "4719                                      0   \n",
       "4453                                      0   \n",
       "5770                                      0   \n",
       "1774                                      0   \n",
       "403                                       0   \n",
       "\n",
       "      Specialization_International Business  \\\n",
       "4719                                      0   \n",
       "4453                                      0   \n",
       "5770                                      0   \n",
       "1774                                      0   \n",
       "403                                       0   \n",
       "\n",
       "      Specialization_Marketing Management  \\\n",
       "4719                                    0   \n",
       "4453                                    0   \n",
       "5770                                    0   \n",
       "1774                                    0   \n",
       "403                                     0   \n",
       "\n",
       "      Specialization_Media and Advertising  \\\n",
       "4719                                     0   \n",
       "4453                                     0   \n",
       "5770                                     0   \n",
       "1774                                     0   \n",
       "403                                      0   \n",
       "\n",
       "      Specialization_Operations Management  Specialization_Retail Management  \\\n",
       "4719                                     0                                 0   \n",
       "4453                                     0                                 0   \n",
       "5770                                     0                                 0   \n",
       "1774                                     0                                 0   \n",
       "403                                      0                                 0   \n",
       "\n",
       "      Specialization_Rural and Agribusiness  \\\n",
       "4719                                      0   \n",
       "4453                                      0   \n",
       "5770                                      0   \n",
       "1774                                      0   \n",
       "403                                       0   \n",
       "\n",
       "      Specialization_Services Excellence  \\\n",
       "4719                                   0   \n",
       "4453                                   0   \n",
       "5770                                   0   \n",
       "1774                                   0   \n",
       "403                                    0   \n",
       "\n",
       "      Specialization_Supply Chain Management  \\\n",
       "4719                                       0   \n",
       "4453                                       0   \n",
       "5770                                       0   \n",
       "1774                                       0   \n",
       "403                                        0   \n",
       "\n",
       "      Specialization_Travel and Tourism  \n",
       "4719                                  0  \n",
       "4453                                  0  \n",
       "5770                                  0  \n",
       "1774                                  0  \n",
       "403                                   0  \n",
       "\n",
       "[5 rows x 73 columns]"
      ]
     },
     "execution_count": 4314,
     "metadata": {},
     "output_type": "execute_result"
    }
   ],
   "source": [
    "scaler = MinMaxScaler()\n",
    "X_train[[\"TotalVisits\", \"Total Time Spent on Website\", \"Page Views Per Visit\"]] = scaler.fit_transform(X_train[[\"TotalVisits\", \"Total Time Spent on Website\", \"Page Views Per Visit\"]])\n",
    "X_train.head()"
   ]
  },
  {
   "cell_type": "code",
   "execution_count": 4315,
   "id": "b4ae9b38-4d1d-4a92-ac87-967c5b8c6faa",
   "metadata": {},
   "outputs": [
    {
     "data": {
      "text/plain": [
       "48.093519535540565"
      ]
     },
     "execution_count": 4315,
     "metadata": {},
     "output_type": "execute_result"
    }
   ],
   "source": [
    "### Percentage of successful Leads\n",
    "Success = (sum(Leads_Transformed[\"Converted\"])/len(Leads_Transformed[\"Converted\"].index))*100\n",
    "Success"
   ]
  },
  {
   "cell_type": "markdown",
   "id": "80bdf265-a61a-4365-84a9-4d7c8101b068",
   "metadata": {},
   "source": [
    "#### Feature Selection using RFE - automated process"
   ]
  },
  {
   "cell_type": "code",
   "execution_count": 4317,
   "id": "0f5d2f90-80b3-44fd-9de9-1880b00db478",
   "metadata": {},
   "outputs": [],
   "source": [
    "logreg = LogisticRegression()\n",
    "\n",
    "rfe = RFE(logreg, n_features_to_select=15)\n",
    "rfe = rfe.fit(X_train, y_train)"
   ]
  },
  {
   "cell_type": "code",
   "execution_count": 4318,
   "id": "0b28b169-1fd2-405d-b665-d4871b553a86",
   "metadata": {},
   "outputs": [
    {
     "data": {
      "text/plain": [
       "[('TotalVisits', True, 1),\n",
       " ('Total Time Spent on Website', True, 1),\n",
       " ('Page Views Per Visit', False, 7),\n",
       " ('Lead Origin_Landing Page Submission', False, 20),\n",
       " ('Lead Origin_Lead Add Form', True, 1),\n",
       " ('Lead Origin_Lead Import', False, 56),\n",
       " ('Lead Source_Direct Traffic', False, 8),\n",
       " ('Lead Source_Facebook', False, 53),\n",
       " ('Lead Source_Google', False, 34),\n",
       " ('Lead Source_Live Chat', False, 45),\n",
       " ('Lead Source_Olark Chat', True, 1),\n",
       " ('Lead Source_Organic Search', False, 32),\n",
       " ('Lead Source_Pay per Click Ads', False, 40),\n",
       " ('Lead Source_Press_Release', False, 52),\n",
       " ('Lead Source_Reference', True, 1),\n",
       " ('Lead Source_Referral Sites', False, 33),\n",
       " ('Lead Source_Social Media', False, 47),\n",
       " ('Lead Source_WeLearn', False, 41),\n",
       " ('Lead Source_Welingak Website', True, 1),\n",
       " ('Lead Source_bing', False, 31),\n",
       " ('Lead Source_testone', False, 38),\n",
       " ('Do Not Email_Yes', True, 1),\n",
       " ('Last Activity_Converted to Lead', False, 9),\n",
       " ('Last Activity_Email Bounced', False, 4),\n",
       " ('Last Activity_Email Link Clicked', False, 28),\n",
       " ('Last Activity_Email Marked Spam', False, 39),\n",
       " ('Last Activity_Email Opened', False, 50),\n",
       " ('Last Activity_Email Received', False, 54),\n",
       " ('Last Activity_Form Submitted on Website', False, 35),\n",
       " ('Last Activity_Had a Phone Conversation', True, 1),\n",
       " ('Last Activity_Olark Chat Conversation', False, 5),\n",
       " ('Last Activity_Page Visited on Website', False, 12),\n",
       " ('Last Activity_SMS Sent', True, 1),\n",
       " ('Last Activity_Unreachable', False, 29),\n",
       " ('Last Activity_Unsubscribed', False, 44),\n",
       " ('Last Activity_View in browser link Clicked', False, 36),\n",
       " ('Last Activity_Visited Booth in Tradeshow', False, 46),\n",
       " ('Occupation_Housewife', True, 1),\n",
       " ('Occupation_Other', False, 49),\n",
       " ('Occupation_Student', True, 1),\n",
       " ('Occupation_Unemployed', True, 1),\n",
       " ('Occupation_Working Professional', True, 1),\n",
       " ('Mastering_Interview_Yes', False, 51),\n",
       " ('Last Notable Activity_Email Bounced', False, 3),\n",
       " ('Last Notable Activity_Email Link Clicked', False, 6),\n",
       " ('Last Notable Activity_Email Marked Spam', False, 42),\n",
       " ('Last Notable Activity_Email Opened', False, 11),\n",
       " ('Last Notable Activity_Email Received', False, 59),\n",
       " ('Last Notable Activity_Had a Phone Conversation', True, 1),\n",
       " ('Last Notable Activity_Modified', False, 2),\n",
       " ('Last Notable Activity_Olark Chat Conversation', False, 27),\n",
       " ('Last Notable Activity_Page Visited on Website', False, 10),\n",
       " ('Last Notable Activity_SMS Sent', False, 48),\n",
       " ('Last Notable Activity_Unreachable', True, 1),\n",
       " ('Last Notable Activity_Unsubscribed', False, 37),\n",
       " ('Last Notable Activity_View in browser link Clicked', False, 30),\n",
       " ('Specialization_Business Administration', False, 23),\n",
       " ('Specialization_E-Business', False, 15),\n",
       " ('Specialization_E-COMMERCE', False, 14),\n",
       " ('Specialization_Finance Management', False, 19),\n",
       " ('Specialization_Healthcare Management', False, 13),\n",
       " ('Specialization_Hospitality Management', False, 58),\n",
       " ('Specialization_Human Resource Management', False, 22),\n",
       " ('Specialization_IT Projects Management', False, 21),\n",
       " ('Specialization_International Business', False, 26),\n",
       " ('Specialization_Marketing Management', False, 17),\n",
       " ('Specialization_Media and Advertising', False, 55),\n",
       " ('Specialization_Operations Management', False, 24),\n",
       " ('Specialization_Retail Management', False, 57),\n",
       " ('Specialization_Rural and Agribusiness', False, 16),\n",
       " ('Specialization_Services Excellence', False, 43),\n",
       " ('Specialization_Supply Chain Management', False, 18),\n",
       " ('Specialization_Travel and Tourism', False, 25)]"
      ]
     },
     "execution_count": 4318,
     "metadata": {},
     "output_type": "execute_result"
    }
   ],
   "source": [
    "list(zip(X_train.columns, rfe.support_, rfe.ranking_))"
   ]
  },
  {
   "cell_type": "code",
   "execution_count": 4319,
   "id": "8c17841f-f533-4e53-8a22-4ad90083f88f",
   "metadata": {},
   "outputs": [
    {
     "name": "stdout",
     "output_type": "stream",
     "text": [
      "['TotalVisits', 'Total Time Spent on Website', 'Lead Origin_Lead Add Form', 'Lead Source_Olark Chat', 'Lead Source_Reference', 'Lead Source_Welingak Website', 'Do Not Email_Yes', 'Last Activity_Had a Phone Conversation', 'Last Activity_SMS Sent', 'Occupation_Housewife', 'Occupation_Student', 'Occupation_Unemployed', 'Occupation_Working Professional', 'Last Notable Activity_Had a Phone Conversation', 'Last Notable Activity_Unreachable']\n"
     ]
    }
   ],
   "source": [
    "cols = X_train.columns[rfe.support_].tolist()\n",
    "print(cols)"
   ]
  },
  {
   "cell_type": "markdown",
   "id": "f4d6787b-2614-467e-9aa1-5a5671e1a6f7",
   "metadata": {},
   "source": [
    "### Build the first model"
   ]
  },
  {
   "cell_type": "code",
   "execution_count": 4321,
   "id": "0d285d9f-7d5e-4070-bc2b-f19a1a65f427",
   "metadata": {},
   "outputs": [
    {
     "data": {
      "text/html": [
       "<table class=\"simpletable\">\n",
       "<caption>Generalized Linear Model Regression Results</caption>\n",
       "<tr>\n",
       "  <th>Dep. Variable:</th>       <td>Converted</td>    <th>  No. Observations:  </th>  <td>  5098</td> \n",
       "</tr>\n",
       "<tr>\n",
       "  <th>Model:</th>                  <td>GLM</td>       <th>  Df Residuals:      </th>  <td>  5082</td> \n",
       "</tr>\n",
       "<tr>\n",
       "  <th>Model Family:</th>        <td>Binomial</td>     <th>  Df Model:          </th>  <td>    15</td> \n",
       "</tr>\n",
       "<tr>\n",
       "  <th>Link Function:</th>         <td>Logit</td>      <th>  Scale:             </th> <td>  1.0000</td>\n",
       "</tr>\n",
       "<tr>\n",
       "  <th>Method:</th>                <td>IRLS</td>       <th>  Log-Likelihood:    </th> <td> -2366.1</td>\n",
       "</tr>\n",
       "<tr>\n",
       "  <th>Date:</th>            <td>Thu, 19 Dec 2024</td> <th>  Deviance:          </th> <td>  4732.3</td>\n",
       "</tr>\n",
       "<tr>\n",
       "  <th>Time:</th>                <td>17:15:02</td>     <th>  Pearson chi2:      </th> <td>5.39e+03</td>\n",
       "</tr>\n",
       "<tr>\n",
       "  <th>No. Iterations:</th>         <td>22</td>        <th>  Pseudo R-squ. (CS):</th>  <td>0.3665</td> \n",
       "</tr>\n",
       "<tr>\n",
       "  <th>Covariance Type:</th>     <td>nonrobust</td>    <th>                     </th>     <td> </td>   \n",
       "</tr>\n",
       "</table>\n",
       "<table class=\"simpletable\">\n",
       "<tr>\n",
       "                         <td></td>                           <th>coef</th>     <th>std err</th>      <th>z</th>      <th>P>|z|</th>  <th>[0.025</th>    <th>0.975]</th>  \n",
       "</tr>\n",
       "<tr>\n",
       "  <th>const</th>                                          <td>   -1.0154</td> <td>    0.597</td> <td>   -1.701</td> <td> 0.089</td> <td>   -2.186</td> <td>    0.155</td>\n",
       "</tr>\n",
       "<tr>\n",
       "  <th>TotalVisits</th>                                    <td>   11.3363</td> <td>    2.542</td> <td>    4.459</td> <td> 0.000</td> <td>    6.353</td> <td>   16.319</td>\n",
       "</tr>\n",
       "<tr>\n",
       "  <th>Total Time Spent on Website</th>                    <td>    4.5056</td> <td>    0.175</td> <td>   25.763</td> <td> 0.000</td> <td>    4.163</td> <td>    4.848</td>\n",
       "</tr>\n",
       "<tr>\n",
       "  <th>Lead Origin_Lead Add Form</th>                      <td>    2.9789</td> <td>    1.195</td> <td>    2.493</td> <td> 0.013</td> <td>    0.637</td> <td>    5.321</td>\n",
       "</tr>\n",
       "<tr>\n",
       "  <th>Lead Source_Olark Chat</th>                         <td>    1.4956</td> <td>    0.114</td> <td>   13.080</td> <td> 0.000</td> <td>    1.271</td> <td>    1.720</td>\n",
       "</tr>\n",
       "<tr>\n",
       "  <th>Lead Source_Reference</th>                          <td>    1.1714</td> <td>    1.213</td> <td>    0.966</td> <td> 0.334</td> <td>   -1.206</td> <td>    3.549</td>\n",
       "</tr>\n",
       "<tr>\n",
       "  <th>Lead Source_Welingak Website</th>                   <td>    3.4748</td> <td>    1.561</td> <td>    2.226</td> <td> 0.026</td> <td>    0.416</td> <td>    6.534</td>\n",
       "</tr>\n",
       "<tr>\n",
       "  <th>Do Not Email_Yes</th>                               <td>   -1.4063</td> <td>    0.179</td> <td>   -7.871</td> <td> 0.000</td> <td>   -1.757</td> <td>   -1.056</td>\n",
       "</tr>\n",
       "<tr>\n",
       "  <th>Last Activity_Had a Phone Conversation</th>         <td>    1.1259</td> <td>    0.966</td> <td>    1.166</td> <td> 0.244</td> <td>   -0.767</td> <td>    3.019</td>\n",
       "</tr>\n",
       "<tr>\n",
       "  <th>Last Activity_SMS Sent</th>                         <td>    1.2524</td> <td>    0.077</td> <td>   16.216</td> <td> 0.000</td> <td>    1.101</td> <td>    1.404</td>\n",
       "</tr>\n",
       "<tr>\n",
       "  <th>Occupation_Housewife</th>                           <td>   22.6486</td> <td> 2.45e+04</td> <td>    0.001</td> <td> 0.999</td> <td> -4.8e+04</td> <td>  4.8e+04</td>\n",
       "</tr>\n",
       "<tr>\n",
       "  <th>Occupation_Student</th>                             <td>   -1.1732</td> <td>    0.623</td> <td>   -1.884</td> <td> 0.060</td> <td>   -2.393</td> <td>    0.047</td>\n",
       "</tr>\n",
       "<tr>\n",
       "  <th>Occupation_Unemployed</th>                          <td>   -1.3853</td> <td>    0.592</td> <td>   -2.340</td> <td> 0.019</td> <td>   -2.546</td> <td>   -0.225</td>\n",
       "</tr>\n",
       "<tr>\n",
       "  <th>Occupation_Working Professional</th>                <td>    1.1880</td> <td>    0.616</td> <td>    1.928</td> <td> 0.054</td> <td>   -0.020</td> <td>    2.396</td>\n",
       "</tr>\n",
       "<tr>\n",
       "  <th>Last Notable Activity_Had a Phone Conversation</th> <td>   22.9705</td> <td> 1.85e+04</td> <td>    0.001</td> <td> 0.999</td> <td>-3.62e+04</td> <td> 3.62e+04</td>\n",
       "</tr>\n",
       "<tr>\n",
       "  <th>Last Notable Activity_Unreachable</th>              <td>    2.9393</td> <td>    0.797</td> <td>    3.690</td> <td> 0.000</td> <td>    1.378</td> <td>    4.501</td>\n",
       "</tr>\n",
       "</table>"
      ],
      "text/latex": [
       "\\begin{center}\n",
       "\\begin{tabular}{lclc}\n",
       "\\toprule\n",
       "\\textbf{Dep. Variable:}                                  &    Converted     & \\textbf{  No. Observations:  } &     5098    \\\\\n",
       "\\textbf{Model:}                                          &       GLM        & \\textbf{  Df Residuals:      } &     5082    \\\\\n",
       "\\textbf{Model Family:}                                   &     Binomial     & \\textbf{  Df Model:          } &       15    \\\\\n",
       "\\textbf{Link Function:}                                  &      Logit       & \\textbf{  Scale:             } &    1.0000   \\\\\n",
       "\\textbf{Method:}                                         &       IRLS       & \\textbf{  Log-Likelihood:    } &   -2366.1   \\\\\n",
       "\\textbf{Date:}                                           & Thu, 19 Dec 2024 & \\textbf{  Deviance:          } &    4732.3   \\\\\n",
       "\\textbf{Time:}                                           &     17:15:02     & \\textbf{  Pearson chi2:      } &  5.39e+03   \\\\\n",
       "\\textbf{No. Iterations:}                                 &        22        & \\textbf{  Pseudo R-squ. (CS):} &   0.3665    \\\\\n",
       "\\textbf{Covariance Type:}                                &    nonrobust     & \\textbf{                     } &             \\\\\n",
       "\\bottomrule\n",
       "\\end{tabular}\n",
       "\\begin{tabular}{lcccccc}\n",
       "                                                         & \\textbf{coef} & \\textbf{std err} & \\textbf{z} & \\textbf{P$> |$z$|$} & \\textbf{[0.025} & \\textbf{0.975]}  \\\\\n",
       "\\midrule\n",
       "\\textbf{const}                                           &      -1.0154  &        0.597     &    -1.701  &         0.089        &       -2.186    &        0.155     \\\\\n",
       "\\textbf{TotalVisits}                                     &      11.3363  &        2.542     &     4.459  &         0.000        &        6.353    &       16.319     \\\\\n",
       "\\textbf{Total Time Spent on Website}                     &       4.5056  &        0.175     &    25.763  &         0.000        &        4.163    &        4.848     \\\\\n",
       "\\textbf{Lead Origin\\_Lead Add Form}                      &       2.9789  &        1.195     &     2.493  &         0.013        &        0.637    &        5.321     \\\\\n",
       "\\textbf{Lead Source\\_Olark Chat}                         &       1.4956  &        0.114     &    13.080  &         0.000        &        1.271    &        1.720     \\\\\n",
       "\\textbf{Lead Source\\_Reference}                          &       1.1714  &        1.213     &     0.966  &         0.334        &       -1.206    &        3.549     \\\\\n",
       "\\textbf{Lead Source\\_Welingak Website}                   &       3.4748  &        1.561     &     2.226  &         0.026        &        0.416    &        6.534     \\\\\n",
       "\\textbf{Do Not Email\\_Yes}                               &      -1.4063  &        0.179     &    -7.871  &         0.000        &       -1.757    &       -1.056     \\\\\n",
       "\\textbf{Last Activity\\_Had a Phone Conversation}         &       1.1259  &        0.966     &     1.166  &         0.244        &       -0.767    &        3.019     \\\\\n",
       "\\textbf{Last Activity\\_SMS Sent}                         &       1.2524  &        0.077     &    16.216  &         0.000        &        1.101    &        1.404     \\\\\n",
       "\\textbf{Occupation\\_Housewife}                           &      22.6486  &     2.45e+04     &     0.001  &         0.999        &     -4.8e+04    &      4.8e+04     \\\\\n",
       "\\textbf{Occupation\\_Student}                             &      -1.1732  &        0.623     &    -1.884  &         0.060        &       -2.393    &        0.047     \\\\\n",
       "\\textbf{Occupation\\_Unemployed}                          &      -1.3853  &        0.592     &    -2.340  &         0.019        &       -2.546    &       -0.225     \\\\\n",
       "\\textbf{Occupation\\_Working Professional}                &       1.1880  &        0.616     &     1.928  &         0.054        &       -0.020    &        2.396     \\\\\n",
       "\\textbf{Last Notable Activity\\_Had a Phone Conversation} &      22.9705  &     1.85e+04     &     0.001  &         0.999        &    -3.62e+04    &     3.62e+04     \\\\\n",
       "\\textbf{Last Notable Activity\\_Unreachable}              &       2.9393  &        0.797     &     3.690  &         0.000        &        1.378    &        4.501     \\\\\n",
       "\\bottomrule\n",
       "\\end{tabular}\n",
       "%\\caption{Generalized Linear Model Regression Results}\n",
       "\\end{center}"
      ],
      "text/plain": [
       "<class 'statsmodels.iolib.summary.Summary'>\n",
       "\"\"\"\n",
       "                 Generalized Linear Model Regression Results                  \n",
       "==============================================================================\n",
       "Dep. Variable:              Converted   No. Observations:                 5098\n",
       "Model:                            GLM   Df Residuals:                     5082\n",
       "Model Family:                Binomial   Df Model:                           15\n",
       "Link Function:                  Logit   Scale:                          1.0000\n",
       "Method:                          IRLS   Log-Likelihood:                -2366.1\n",
       "Date:                Thu, 19 Dec 2024   Deviance:                       4732.3\n",
       "Time:                        17:15:02   Pearson chi2:                 5.39e+03\n",
       "No. Iterations:                    22   Pseudo R-squ. (CS):             0.3665\n",
       "Covariance Type:            nonrobust                                         \n",
       "==================================================================================================================\n",
       "                                                     coef    std err          z      P>|z|      [0.025      0.975]\n",
       "------------------------------------------------------------------------------------------------------------------\n",
       "const                                             -1.0154      0.597     -1.701      0.089      -2.186       0.155\n",
       "TotalVisits                                       11.3363      2.542      4.459      0.000       6.353      16.319\n",
       "Total Time Spent on Website                        4.5056      0.175     25.763      0.000       4.163       4.848\n",
       "Lead Origin_Lead Add Form                          2.9789      1.195      2.493      0.013       0.637       5.321\n",
       "Lead Source_Olark Chat                             1.4956      0.114     13.080      0.000       1.271       1.720\n",
       "Lead Source_Reference                              1.1714      1.213      0.966      0.334      -1.206       3.549\n",
       "Lead Source_Welingak Website                       3.4748      1.561      2.226      0.026       0.416       6.534\n",
       "Do Not Email_Yes                                  -1.4063      0.179     -7.871      0.000      -1.757      -1.056\n",
       "Last Activity_Had a Phone Conversation             1.1259      0.966      1.166      0.244      -0.767       3.019\n",
       "Last Activity_SMS Sent                             1.2524      0.077     16.216      0.000       1.101       1.404\n",
       "Occupation_Housewife                              22.6486   2.45e+04      0.001      0.999    -4.8e+04     4.8e+04\n",
       "Occupation_Student                                -1.1732      0.623     -1.884      0.060      -2.393       0.047\n",
       "Occupation_Unemployed                             -1.3853      0.592     -2.340      0.019      -2.546      -0.225\n",
       "Occupation_Working Professional                    1.1880      0.616      1.928      0.054      -0.020       2.396\n",
       "Last Notable Activity_Had a Phone Conversation    22.9705   1.85e+04      0.001      0.999   -3.62e+04    3.62e+04\n",
       "Last Notable Activity_Unreachable                  2.9393      0.797      3.690      0.000       1.378       4.501\n",
       "==================================================================================================================\n",
       "\"\"\""
      ]
     },
     "execution_count": 4321,
     "metadata": {},
     "output_type": "execute_result"
    }
   ],
   "source": [
    "X_train_sm = sm.add_constant(X_train[cols])\n",
    "\n",
    "model1 = sm.GLM(y_train, X_train_sm, family = sm.families.Binomial())\n",
    "res1 = model1.fit()\n",
    "res1.summary()"
   ]
  },
  {
   "cell_type": "code",
   "execution_count": 4322,
   "id": "401bfc0c-20cc-4b41-87ed-2f6c5c48a05e",
   "metadata": {},
   "outputs": [
    {
     "name": "stdout",
     "output_type": "stream",
     "text": [
      "                                           Feature         VIF\n",
      "0                                            const  289.639764\n",
      "1                                      TotalVisits    1.135587\n",
      "2                      Total Time Spent on Website    1.279136\n",
      "3                        Lead Origin_Lead Add Form   85.012632\n",
      "4                           Lead Source_Olark Chat    1.255182\n",
      "5                            Lead Source_Reference   67.842614\n",
      "6                     Lead Source_Welingak Website   21.186711\n",
      "7                                 Do Not Email_Yes    1.013210\n",
      "8           Last Activity_Had a Phone Conversation    2.499246\n",
      "9                           Last Activity_SMS Sent    1.049725\n",
      "10                            Occupation_Housewife    1.445691\n",
      "11                              Occupation_Student    9.221331\n",
      "12                           Occupation_Unemployed   34.329514\n",
      "13                 Occupation_Working Professional   27.616328\n",
      "14  Last Notable Activity_Had a Phone Conversation    2.495473\n",
      "15               Last Notable Activity_Unreachable    1.005392\n"
     ]
    }
   ],
   "source": [
    "### calculate VIF\n",
    "\n",
    "vif_data = pd.DataFrame()\n",
    "vif_data[\"Feature\"]=X_train_sm.columns\n",
    "\n",
    "vif_data[\"VIF\"]=[variance_inflation_factor(X_train_sm.values,i) for i in range(len(X_train_sm.columns))]\n",
    "print(vif_data)"
   ]
  },
  {
   "cell_type": "code",
   "execution_count": 4323,
   "id": "9aa79480-aa0d-47ee-ada3-28e4f499871b",
   "metadata": {},
   "outputs": [],
   "source": [
    "#### Remove the column \"Last Notable Activity_Had a Phone Conversation\", due to high p value\n",
    "cols.remove(\"Last Notable Activity_Had a Phone Conversation\")"
   ]
  },
  {
   "cell_type": "markdown",
   "id": "34fde8da-593d-4356-b355-ffaf590ed4ae",
   "metadata": {},
   "source": [
    "#### Model 2 after dropping column \"Last Notable Activity_Had a Phone Conversation\""
   ]
  },
  {
   "cell_type": "code",
   "execution_count": 4325,
   "id": "d56b735d-f605-4b4c-b038-1a583bf515e2",
   "metadata": {},
   "outputs": [
    {
     "data": {
      "text/html": [
       "<table class=\"simpletable\">\n",
       "<caption>Generalized Linear Model Regression Results</caption>\n",
       "<tr>\n",
       "  <th>Dep. Variable:</th>       <td>Converted</td>    <th>  No. Observations:  </th>  <td>  5098</td> \n",
       "</tr>\n",
       "<tr>\n",
       "  <th>Model:</th>                  <td>GLM</td>       <th>  Df Residuals:      </th>  <td>  5083</td> \n",
       "</tr>\n",
       "<tr>\n",
       "  <th>Model Family:</th>        <td>Binomial</td>     <th>  Df Model:          </th>  <td>    14</td> \n",
       "</tr>\n",
       "<tr>\n",
       "  <th>Link Function:</th>         <td>Logit</td>      <th>  Scale:             </th> <td>  1.0000</td>\n",
       "</tr>\n",
       "<tr>\n",
       "  <th>Method:</th>                <td>IRLS</td>       <th>  Log-Likelihood:    </th> <td> -2369.1</td>\n",
       "</tr>\n",
       "<tr>\n",
       "  <th>Date:</th>            <td>Thu, 19 Dec 2024</td> <th>  Deviance:          </th> <td>  4738.1</td>\n",
       "</tr>\n",
       "<tr>\n",
       "  <th>Time:</th>                <td>17:15:02</td>     <th>  Pearson chi2:      </th> <td>5.40e+03</td>\n",
       "</tr>\n",
       "<tr>\n",
       "  <th>No. Iterations:</th>         <td>21</td>        <th>  Pseudo R-squ. (CS):</th>  <td>0.3658</td> \n",
       "</tr>\n",
       "<tr>\n",
       "  <th>Covariance Type:</th>     <td>nonrobust</td>    <th>                     </th>     <td> </td>   \n",
       "</tr>\n",
       "</table>\n",
       "<table class=\"simpletable\">\n",
       "<tr>\n",
       "                     <td></td>                       <th>coef</th>     <th>std err</th>      <th>z</th>      <th>P>|z|</th>  <th>[0.025</th>    <th>0.975]</th>  \n",
       "</tr>\n",
       "<tr>\n",
       "  <th>const</th>                                  <td>   -1.0164</td> <td>    0.597</td> <td>   -1.703</td> <td> 0.089</td> <td>   -2.186</td> <td>    0.154</td>\n",
       "</tr>\n",
       "<tr>\n",
       "  <th>TotalVisits</th>                            <td>   11.4291</td> <td>    2.544</td> <td>    4.492</td> <td> 0.000</td> <td>    6.442</td> <td>   16.416</td>\n",
       "</tr>\n",
       "<tr>\n",
       "  <th>Total Time Spent on Website</th>            <td>    4.4996</td> <td>    0.175</td> <td>   25.745</td> <td> 0.000</td> <td>    4.157</td> <td>    4.842</td>\n",
       "</tr>\n",
       "<tr>\n",
       "  <th>Lead Origin_Lead Add Form</th>              <td>    2.9786</td> <td>    1.195</td> <td>    2.493</td> <td> 0.013</td> <td>    0.636</td> <td>    5.321</td>\n",
       "</tr>\n",
       "<tr>\n",
       "  <th>Lead Source_Olark Chat</th>                 <td>    1.4953</td> <td>    0.114</td> <td>   13.078</td> <td> 0.000</td> <td>    1.271</td> <td>    1.719</td>\n",
       "</tr>\n",
       "<tr>\n",
       "  <th>Lead Source_Reference</th>                  <td>    1.1693</td> <td>    1.213</td> <td>    0.964</td> <td> 0.335</td> <td>   -1.208</td> <td>    3.547</td>\n",
       "</tr>\n",
       "<tr>\n",
       "  <th>Lead Source_Welingak Website</th>           <td>    3.4748</td> <td>    1.561</td> <td>    2.226</td> <td> 0.026</td> <td>    0.416</td> <td>    6.534</td>\n",
       "</tr>\n",
       "<tr>\n",
       "  <th>Do Not Email_Yes</th>                       <td>   -1.4064</td> <td>    0.179</td> <td>   -7.872</td> <td> 0.000</td> <td>   -1.757</td> <td>   -1.056</td>\n",
       "</tr>\n",
       "<tr>\n",
       "  <th>Last Activity_Had a Phone Conversation</th> <td>    2.8581</td> <td>    0.794</td> <td>    3.600</td> <td> 0.000</td> <td>    1.302</td> <td>    4.414</td>\n",
       "</tr>\n",
       "<tr>\n",
       "  <th>Last Activity_SMS Sent</th>                 <td>    1.2522</td> <td>    0.077</td> <td>   16.218</td> <td> 0.000</td> <td>    1.101</td> <td>    1.404</td>\n",
       "</tr>\n",
       "<tr>\n",
       "  <th>Occupation_Housewife</th>                   <td>   21.6500</td> <td> 1.49e+04</td> <td>    0.001</td> <td> 0.999</td> <td>-2.91e+04</td> <td> 2.91e+04</td>\n",
       "</tr>\n",
       "<tr>\n",
       "  <th>Occupation_Student</th>                     <td>   -1.1717</td> <td>    0.622</td> <td>   -1.882</td> <td> 0.060</td> <td>   -2.392</td> <td>    0.048</td>\n",
       "</tr>\n",
       "<tr>\n",
       "  <th>Occupation_Unemployed</th>                  <td>   -1.3839</td> <td>    0.592</td> <td>   -2.338</td> <td> 0.019</td> <td>   -2.544</td> <td>   -0.224</td>\n",
       "</tr>\n",
       "<tr>\n",
       "  <th>Occupation_Working Professional</th>        <td>    1.1877</td> <td>    0.616</td> <td>    1.928</td> <td> 0.054</td> <td>   -0.020</td> <td>    2.395</td>\n",
       "</tr>\n",
       "<tr>\n",
       "  <th>Last Notable Activity_Unreachable</th>      <td>    2.9382</td> <td>    0.797</td> <td>    3.688</td> <td> 0.000</td> <td>    1.377</td> <td>    4.499</td>\n",
       "</tr>\n",
       "</table>"
      ],
      "text/latex": [
       "\\begin{center}\n",
       "\\begin{tabular}{lclc}\n",
       "\\toprule\n",
       "\\textbf{Dep. Variable:}                          &    Converted     & \\textbf{  No. Observations:  } &     5098    \\\\\n",
       "\\textbf{Model:}                                  &       GLM        & \\textbf{  Df Residuals:      } &     5083    \\\\\n",
       "\\textbf{Model Family:}                           &     Binomial     & \\textbf{  Df Model:          } &       14    \\\\\n",
       "\\textbf{Link Function:}                          &      Logit       & \\textbf{  Scale:             } &    1.0000   \\\\\n",
       "\\textbf{Method:}                                 &       IRLS       & \\textbf{  Log-Likelihood:    } &   -2369.1   \\\\\n",
       "\\textbf{Date:}                                   & Thu, 19 Dec 2024 & \\textbf{  Deviance:          } &    4738.1   \\\\\n",
       "\\textbf{Time:}                                   &     17:15:02     & \\textbf{  Pearson chi2:      } &  5.40e+03   \\\\\n",
       "\\textbf{No. Iterations:}                         &        21        & \\textbf{  Pseudo R-squ. (CS):} &   0.3658    \\\\\n",
       "\\textbf{Covariance Type:}                        &    nonrobust     & \\textbf{                     } &             \\\\\n",
       "\\bottomrule\n",
       "\\end{tabular}\n",
       "\\begin{tabular}{lcccccc}\n",
       "                                                 & \\textbf{coef} & \\textbf{std err} & \\textbf{z} & \\textbf{P$> |$z$|$} & \\textbf{[0.025} & \\textbf{0.975]}  \\\\\n",
       "\\midrule\n",
       "\\textbf{const}                                   &      -1.0164  &        0.597     &    -1.703  &         0.089        &       -2.186    &        0.154     \\\\\n",
       "\\textbf{TotalVisits}                             &      11.4291  &        2.544     &     4.492  &         0.000        &        6.442    &       16.416     \\\\\n",
       "\\textbf{Total Time Spent on Website}             &       4.4996  &        0.175     &    25.745  &         0.000        &        4.157    &        4.842     \\\\\n",
       "\\textbf{Lead Origin\\_Lead Add Form}              &       2.9786  &        1.195     &     2.493  &         0.013        &        0.636    &        5.321     \\\\\n",
       "\\textbf{Lead Source\\_Olark Chat}                 &       1.4953  &        0.114     &    13.078  &         0.000        &        1.271    &        1.719     \\\\\n",
       "\\textbf{Lead Source\\_Reference}                  &       1.1693  &        1.213     &     0.964  &         0.335        &       -1.208    &        3.547     \\\\\n",
       "\\textbf{Lead Source\\_Welingak Website}           &       3.4748  &        1.561     &     2.226  &         0.026        &        0.416    &        6.534     \\\\\n",
       "\\textbf{Do Not Email\\_Yes}                       &      -1.4064  &        0.179     &    -7.872  &         0.000        &       -1.757    &       -1.056     \\\\\n",
       "\\textbf{Last Activity\\_Had a Phone Conversation} &       2.8581  &        0.794     &     3.600  &         0.000        &        1.302    &        4.414     \\\\\n",
       "\\textbf{Last Activity\\_SMS Sent}                 &       1.2522  &        0.077     &    16.218  &         0.000        &        1.101    &        1.404     \\\\\n",
       "\\textbf{Occupation\\_Housewife}                   &      21.6500  &     1.49e+04     &     0.001  &         0.999        &    -2.91e+04    &     2.91e+04     \\\\\n",
       "\\textbf{Occupation\\_Student}                     &      -1.1717  &        0.622     &    -1.882  &         0.060        &       -2.392    &        0.048     \\\\\n",
       "\\textbf{Occupation\\_Unemployed}                  &      -1.3839  &        0.592     &    -2.338  &         0.019        &       -2.544    &       -0.224     \\\\\n",
       "\\textbf{Occupation\\_Working Professional}        &       1.1877  &        0.616     &     1.928  &         0.054        &       -0.020    &        2.395     \\\\\n",
       "\\textbf{Last Notable Activity\\_Unreachable}      &       2.9382  &        0.797     &     3.688  &         0.000        &        1.377    &        4.499     \\\\\n",
       "\\bottomrule\n",
       "\\end{tabular}\n",
       "%\\caption{Generalized Linear Model Regression Results}\n",
       "\\end{center}"
      ],
      "text/plain": [
       "<class 'statsmodels.iolib.summary.Summary'>\n",
       "\"\"\"\n",
       "                 Generalized Linear Model Regression Results                  \n",
       "==============================================================================\n",
       "Dep. Variable:              Converted   No. Observations:                 5098\n",
       "Model:                            GLM   Df Residuals:                     5083\n",
       "Model Family:                Binomial   Df Model:                           14\n",
       "Link Function:                  Logit   Scale:                          1.0000\n",
       "Method:                          IRLS   Log-Likelihood:                -2369.1\n",
       "Date:                Thu, 19 Dec 2024   Deviance:                       4738.1\n",
       "Time:                        17:15:02   Pearson chi2:                 5.40e+03\n",
       "No. Iterations:                    21   Pseudo R-squ. (CS):             0.3658\n",
       "Covariance Type:            nonrobust                                         \n",
       "==========================================================================================================\n",
       "                                             coef    std err          z      P>|z|      [0.025      0.975]\n",
       "----------------------------------------------------------------------------------------------------------\n",
       "const                                     -1.0164      0.597     -1.703      0.089      -2.186       0.154\n",
       "TotalVisits                               11.4291      2.544      4.492      0.000       6.442      16.416\n",
       "Total Time Spent on Website                4.4996      0.175     25.745      0.000       4.157       4.842\n",
       "Lead Origin_Lead Add Form                  2.9786      1.195      2.493      0.013       0.636       5.321\n",
       "Lead Source_Olark Chat                     1.4953      0.114     13.078      0.000       1.271       1.719\n",
       "Lead Source_Reference                      1.1693      1.213      0.964      0.335      -1.208       3.547\n",
       "Lead Source_Welingak Website               3.4748      1.561      2.226      0.026       0.416       6.534\n",
       "Do Not Email_Yes                          -1.4064      0.179     -7.872      0.000      -1.757      -1.056\n",
       "Last Activity_Had a Phone Conversation     2.8581      0.794      3.600      0.000       1.302       4.414\n",
       "Last Activity_SMS Sent                     1.2522      0.077     16.218      0.000       1.101       1.404\n",
       "Occupation_Housewife                      21.6500   1.49e+04      0.001      0.999   -2.91e+04    2.91e+04\n",
       "Occupation_Student                        -1.1717      0.622     -1.882      0.060      -2.392       0.048\n",
       "Occupation_Unemployed                     -1.3839      0.592     -2.338      0.019      -2.544      -0.224\n",
       "Occupation_Working Professional            1.1877      0.616      1.928      0.054      -0.020       2.395\n",
       "Last Notable Activity_Unreachable          2.9382      0.797      3.688      0.000       1.377       4.499\n",
       "==========================================================================================================\n",
       "\"\"\""
      ]
     },
     "execution_count": 4325,
     "metadata": {},
     "output_type": "execute_result"
    }
   ],
   "source": [
    "X_train_sm = sm.add_constant(X_train[cols])\n",
    "\n",
    "model2 = sm.GLM(y_train, X_train_sm, family = sm.families.Binomial())\n",
    "res2 = model2.fit()\n",
    "res2.summary()"
   ]
  },
  {
   "cell_type": "code",
   "execution_count": 4326,
   "id": "a815ba31-0df2-4234-b669-100b84f90c99",
   "metadata": {},
   "outputs": [
    {
     "name": "stdout",
     "output_type": "stream",
     "text": [
      "                                   Feature         VIF\n",
      "0                                    const  289.639380\n",
      "1                              TotalVisits    1.135297\n",
      "2              Total Time Spent on Website    1.279133\n",
      "3                Lead Origin_Lead Add Form   85.012631\n",
      "4                   Lead Source_Olark Chat    1.255091\n",
      "5                    Lead Source_Reference   67.842490\n",
      "6             Lead Source_Welingak Website   21.186711\n",
      "7                         Do Not Email_Yes    1.013209\n",
      "8   Last Activity_Had a Phone Conversation    1.004367\n",
      "9                   Last Activity_SMS Sent    1.049716\n",
      "10                    Occupation_Housewife    1.445690\n",
      "11                      Occupation_Student    9.221330\n",
      "12                   Occupation_Unemployed   34.329505\n",
      "13         Occupation_Working Professional   27.616320\n",
      "14       Last Notable Activity_Unreachable    1.005392\n"
     ]
    }
   ],
   "source": [
    "### calculate VIF\n",
    "\n",
    "vif_data = pd.DataFrame()\n",
    "vif_data[\"Feature\"]=X_train_sm.columns\n",
    "\n",
    "vif_data[\"VIF\"]=[variance_inflation_factor(X_train_sm.values,i) for i in range(len(X_train_sm.columns))]\n",
    "print(vif_data)"
   ]
  },
  {
   "cell_type": "code",
   "execution_count": 4327,
   "id": "5e0a747c-b985-4127-9dca-4c60aa238598",
   "metadata": {},
   "outputs": [],
   "source": [
    "### Drop column \"What is your current occupation_Housewife\" due to high p vlaue\n",
    "cols.remove(\"Occupation_Housewife\")"
   ]
  },
  {
   "cell_type": "markdown",
   "id": "21ebe676-80df-4d24-880e-eada7a40329e",
   "metadata": {},
   "source": [
    "### Model 3 after removing column \"What is your current occupation_Housewife\""
   ]
  },
  {
   "cell_type": "code",
   "execution_count": 4329,
   "id": "0bbae82f-7125-4312-b798-af021fe7de7b",
   "metadata": {},
   "outputs": [
    {
     "data": {
      "text/html": [
       "<table class=\"simpletable\">\n",
       "<caption>Generalized Linear Model Regression Results</caption>\n",
       "<tr>\n",
       "  <th>Dep. Variable:</th>       <td>Converted</td>    <th>  No. Observations:  </th>  <td>  5098</td> \n",
       "</tr>\n",
       "<tr>\n",
       "  <th>Model:</th>                  <td>GLM</td>       <th>  Df Residuals:      </th>  <td>  5084</td> \n",
       "</tr>\n",
       "<tr>\n",
       "  <th>Model Family:</th>        <td>Binomial</td>     <th>  Df Model:          </th>  <td>    13</td> \n",
       "</tr>\n",
       "<tr>\n",
       "  <th>Link Function:</th>         <td>Logit</td>      <th>  Scale:             </th> <td>  1.0000</td>\n",
       "</tr>\n",
       "<tr>\n",
       "  <th>Method:</th>                <td>IRLS</td>       <th>  Log-Likelihood:    </th> <td> -2371.3</td>\n",
       "</tr>\n",
       "<tr>\n",
       "  <th>Date:</th>            <td>Thu, 19 Dec 2024</td> <th>  Deviance:          </th> <td>  4742.6</td>\n",
       "</tr>\n",
       "<tr>\n",
       "  <th>Time:</th>                <td>17:15:03</td>     <th>  Pearson chi2:      </th> <td>5.40e+03</td>\n",
       "</tr>\n",
       "<tr>\n",
       "  <th>No. Iterations:</th>          <td>7</td>        <th>  Pseudo R-squ. (CS):</th>  <td>0.3652</td> \n",
       "</tr>\n",
       "<tr>\n",
       "  <th>Covariance Type:</th>     <td>nonrobust</td>    <th>                     </th>     <td> </td>   \n",
       "</tr>\n",
       "</table>\n",
       "<table class=\"simpletable\">\n",
       "<tr>\n",
       "                     <td></td>                       <th>coef</th>     <th>std err</th>      <th>z</th>      <th>P>|z|</th>  <th>[0.025</th>    <th>0.975]</th>  \n",
       "</tr>\n",
       "<tr>\n",
       "  <th>const</th>                                  <td>   -0.4667</td> <td>    0.553</td> <td>   -0.844</td> <td> 0.398</td> <td>   -1.550</td> <td>    0.617</td>\n",
       "</tr>\n",
       "<tr>\n",
       "  <th>TotalVisits</th>                            <td>   11.2500</td> <td>    2.533</td> <td>    4.441</td> <td> 0.000</td> <td>    6.285</td> <td>   16.215</td>\n",
       "</tr>\n",
       "<tr>\n",
       "  <th>Total Time Spent on Website</th>            <td>    4.4975</td> <td>    0.175</td> <td>   25.741</td> <td> 0.000</td> <td>    4.155</td> <td>    4.840</td>\n",
       "</tr>\n",
       "<tr>\n",
       "  <th>Lead Origin_Lead Add Form</th>              <td>    2.9745</td> <td>    1.195</td> <td>    2.489</td> <td> 0.013</td> <td>    0.632</td> <td>    5.317</td>\n",
       "</tr>\n",
       "<tr>\n",
       "  <th>Lead Source_Olark Chat</th>                 <td>    1.4907</td> <td>    0.114</td> <td>   13.050</td> <td> 0.000</td> <td>    1.267</td> <td>    1.715</td>\n",
       "</tr>\n",
       "<tr>\n",
       "  <th>Lead Source_Reference</th>                  <td>    1.1710</td> <td>    1.213</td> <td>    0.965</td> <td> 0.334</td> <td>   -1.206</td> <td>    3.548</td>\n",
       "</tr>\n",
       "<tr>\n",
       "  <th>Lead Source_Welingak Website</th>           <td>    3.4751</td> <td>    1.561</td> <td>    2.227</td> <td> 0.026</td> <td>    0.416</td> <td>    6.534</td>\n",
       "</tr>\n",
       "<tr>\n",
       "  <th>Do Not Email_Yes</th>                       <td>   -1.4085</td> <td>    0.179</td> <td>   -7.877</td> <td> 0.000</td> <td>   -1.759</td> <td>   -1.058</td>\n",
       "</tr>\n",
       "<tr>\n",
       "  <th>Last Activity_Had a Phone Conversation</th> <td>    2.8590</td> <td>    0.794</td> <td>    3.601</td> <td> 0.000</td> <td>    1.303</td> <td>    4.415</td>\n",
       "</tr>\n",
       "<tr>\n",
       "  <th>Last Activity_SMS Sent</th>                 <td>    1.2519</td> <td>    0.077</td> <td>   16.215</td> <td> 0.000</td> <td>    1.101</td> <td>    1.403</td>\n",
       "</tr>\n",
       "<tr>\n",
       "  <th>Occupation_Student</th>                     <td>   -1.7173</td> <td>    0.582</td> <td>   -2.951</td> <td> 0.003</td> <td>   -2.858</td> <td>   -0.577</td>\n",
       "</tr>\n",
       "<tr>\n",
       "  <th>Occupation_Unemployed</th>                  <td>   -1.9293</td> <td>    0.549</td> <td>   -3.514</td> <td> 0.000</td> <td>   -3.006</td> <td>   -0.853</td>\n",
       "</tr>\n",
       "<tr>\n",
       "  <th>Occupation_Working Professional</th>        <td>    0.6420</td> <td>    0.575</td> <td>    1.117</td> <td> 0.264</td> <td>   -0.485</td> <td>    1.769</td>\n",
       "</tr>\n",
       "<tr>\n",
       "  <th>Last Notable Activity_Unreachable</th>      <td>    2.9361</td> <td>    0.797</td> <td>    3.685</td> <td> 0.000</td> <td>    1.374</td> <td>    4.498</td>\n",
       "</tr>\n",
       "</table>"
      ],
      "text/latex": [
       "\\begin{center}\n",
       "\\begin{tabular}{lclc}\n",
       "\\toprule\n",
       "\\textbf{Dep. Variable:}                          &    Converted     & \\textbf{  No. Observations:  } &     5098    \\\\\n",
       "\\textbf{Model:}                                  &       GLM        & \\textbf{  Df Residuals:      } &     5084    \\\\\n",
       "\\textbf{Model Family:}                           &     Binomial     & \\textbf{  Df Model:          } &       13    \\\\\n",
       "\\textbf{Link Function:}                          &      Logit       & \\textbf{  Scale:             } &    1.0000   \\\\\n",
       "\\textbf{Method:}                                 &       IRLS       & \\textbf{  Log-Likelihood:    } &   -2371.3   \\\\\n",
       "\\textbf{Date:}                                   & Thu, 19 Dec 2024 & \\textbf{  Deviance:          } &    4742.6   \\\\\n",
       "\\textbf{Time:}                                   &     17:15:03     & \\textbf{  Pearson chi2:      } &  5.40e+03   \\\\\n",
       "\\textbf{No. Iterations:}                         &        7         & \\textbf{  Pseudo R-squ. (CS):} &   0.3652    \\\\\n",
       "\\textbf{Covariance Type:}                        &    nonrobust     & \\textbf{                     } &             \\\\\n",
       "\\bottomrule\n",
       "\\end{tabular}\n",
       "\\begin{tabular}{lcccccc}\n",
       "                                                 & \\textbf{coef} & \\textbf{std err} & \\textbf{z} & \\textbf{P$> |$z$|$} & \\textbf{[0.025} & \\textbf{0.975]}  \\\\\n",
       "\\midrule\n",
       "\\textbf{const}                                   &      -0.4667  &        0.553     &    -0.844  &         0.398        &       -1.550    &        0.617     \\\\\n",
       "\\textbf{TotalVisits}                             &      11.2500  &        2.533     &     4.441  &         0.000        &        6.285    &       16.215     \\\\\n",
       "\\textbf{Total Time Spent on Website}             &       4.4975  &        0.175     &    25.741  &         0.000        &        4.155    &        4.840     \\\\\n",
       "\\textbf{Lead Origin\\_Lead Add Form}              &       2.9745  &        1.195     &     2.489  &         0.013        &        0.632    &        5.317     \\\\\n",
       "\\textbf{Lead Source\\_Olark Chat}                 &       1.4907  &        0.114     &    13.050  &         0.000        &        1.267    &        1.715     \\\\\n",
       "\\textbf{Lead Source\\_Reference}                  &       1.1710  &        1.213     &     0.965  &         0.334        &       -1.206    &        3.548     \\\\\n",
       "\\textbf{Lead Source\\_Welingak Website}           &       3.4751  &        1.561     &     2.227  &         0.026        &        0.416    &        6.534     \\\\\n",
       "\\textbf{Do Not Email\\_Yes}                       &      -1.4085  &        0.179     &    -7.877  &         0.000        &       -1.759    &       -1.058     \\\\\n",
       "\\textbf{Last Activity\\_Had a Phone Conversation} &       2.8590  &        0.794     &     3.601  &         0.000        &        1.303    &        4.415     \\\\\n",
       "\\textbf{Last Activity\\_SMS Sent}                 &       1.2519  &        0.077     &    16.215  &         0.000        &        1.101    &        1.403     \\\\\n",
       "\\textbf{Occupation\\_Student}                     &      -1.7173  &        0.582     &    -2.951  &         0.003        &       -2.858    &       -0.577     \\\\\n",
       "\\textbf{Occupation\\_Unemployed}                  &      -1.9293  &        0.549     &    -3.514  &         0.000        &       -3.006    &       -0.853     \\\\\n",
       "\\textbf{Occupation\\_Working Professional}        &       0.6420  &        0.575     &     1.117  &         0.264        &       -0.485    &        1.769     \\\\\n",
       "\\textbf{Last Notable Activity\\_Unreachable}      &       2.9361  &        0.797     &     3.685  &         0.000        &        1.374    &        4.498     \\\\\n",
       "\\bottomrule\n",
       "\\end{tabular}\n",
       "%\\caption{Generalized Linear Model Regression Results}\n",
       "\\end{center}"
      ],
      "text/plain": [
       "<class 'statsmodels.iolib.summary.Summary'>\n",
       "\"\"\"\n",
       "                 Generalized Linear Model Regression Results                  \n",
       "==============================================================================\n",
       "Dep. Variable:              Converted   No. Observations:                 5098\n",
       "Model:                            GLM   Df Residuals:                     5084\n",
       "Model Family:                Binomial   Df Model:                           13\n",
       "Link Function:                  Logit   Scale:                          1.0000\n",
       "Method:                          IRLS   Log-Likelihood:                -2371.3\n",
       "Date:                Thu, 19 Dec 2024   Deviance:                       4742.6\n",
       "Time:                        17:15:03   Pearson chi2:                 5.40e+03\n",
       "No. Iterations:                     7   Pseudo R-squ. (CS):             0.3652\n",
       "Covariance Type:            nonrobust                                         \n",
       "==========================================================================================================\n",
       "                                             coef    std err          z      P>|z|      [0.025      0.975]\n",
       "----------------------------------------------------------------------------------------------------------\n",
       "const                                     -0.4667      0.553     -0.844      0.398      -1.550       0.617\n",
       "TotalVisits                               11.2500      2.533      4.441      0.000       6.285      16.215\n",
       "Total Time Spent on Website                4.4975      0.175     25.741      0.000       4.155       4.840\n",
       "Lead Origin_Lead Add Form                  2.9745      1.195      2.489      0.013       0.632       5.317\n",
       "Lead Source_Olark Chat                     1.4907      0.114     13.050      0.000       1.267       1.715\n",
       "Lead Source_Reference                      1.1710      1.213      0.965      0.334      -1.206       3.548\n",
       "Lead Source_Welingak Website               3.4751      1.561      2.227      0.026       0.416       6.534\n",
       "Do Not Email_Yes                          -1.4085      0.179     -7.877      0.000      -1.759      -1.058\n",
       "Last Activity_Had a Phone Conversation     2.8590      0.794      3.601      0.000       1.303       4.415\n",
       "Last Activity_SMS Sent                     1.2519      0.077     16.215      0.000       1.101       1.403\n",
       "Occupation_Student                        -1.7173      0.582     -2.951      0.003      -2.858      -0.577\n",
       "Occupation_Unemployed                     -1.9293      0.549     -3.514      0.000      -3.006      -0.853\n",
       "Occupation_Working Professional            0.6420      0.575      1.117      0.264      -0.485       1.769\n",
       "Last Notable Activity_Unreachable          2.9361      0.797      3.685      0.000       1.374       4.498\n",
       "==========================================================================================================\n",
       "\"\"\""
      ]
     },
     "execution_count": 4329,
     "metadata": {},
     "output_type": "execute_result"
    }
   ],
   "source": [
    "X_train_sm = sm.add_constant(X_train[cols])\n",
    "\n",
    "model3 = sm.GLM(y_train, X_train_sm, family = sm.families.Binomial())\n",
    "res3 = model3.fit()\n",
    "res3.summary()"
   ]
  },
  {
   "cell_type": "code",
   "execution_count": 4330,
   "id": "e915690a-da38-4c15-b113-fa5f9bd5fba3",
   "metadata": {},
   "outputs": [
    {
     "name": "stdout",
     "output_type": "stream",
     "text": [
      "                                   Feature         VIF\n",
      "0                                    const  201.348018\n",
      "1                              TotalVisits    1.134562\n",
      "2              Total Time Spent on Website    1.279119\n",
      "3                Lead Origin_Lead Add Form   85.012609\n",
      "4                   Lead Source_Olark Chat    1.254944\n",
      "5                    Lead Source_Reference   67.841926\n",
      "6             Lead Source_Welingak Website   21.186710\n",
      "7                         Do Not Email_Yes    1.013154\n",
      "8   Last Activity_Had a Phone Conversation    1.004367\n",
      "9                   Last Activity_SMS Sent    1.049700\n",
      "10                      Occupation_Student    6.680655\n",
      "11                   Occupation_Unemployed   23.814760\n",
      "12         Occupation_Working Professional   19.388554\n",
      "13       Last Notable Activity_Unreachable    1.004345\n"
     ]
    }
   ],
   "source": [
    "### calculate VIF\n",
    "\n",
    "vif_data = pd.DataFrame()\n",
    "vif_data[\"Feature\"]=X_train_sm.columns\n",
    "\n",
    "vif_data[\"VIF\"]=[variance_inflation_factor(X_train_sm.values,i) for i in range(len(X_train_sm.columns))]\n",
    "print(vif_data)"
   ]
  },
  {
   "cell_type": "code",
   "execution_count": 4331,
   "id": "699bf4be-a2b6-4a68-8514-58d0d47d9e7e",
   "metadata": {},
   "outputs": [],
   "source": [
    "### Remove column \"Lead Source_Reference\" due to high p value & VIF\n",
    "cols.remove(\"Lead Source_Reference\")"
   ]
  },
  {
   "cell_type": "markdown",
   "id": "1bf976a7-4d3f-4a81-b39f-7e82d4c8f67f",
   "metadata": {},
   "source": [
    "#### Model 4 after dropping column, \"Lead Source_Reference\""
   ]
  },
  {
   "cell_type": "code",
   "execution_count": 4333,
   "id": "f97ec604-85b1-41da-8de9-36e5ab66573e",
   "metadata": {},
   "outputs": [
    {
     "data": {
      "text/html": [
       "<table class=\"simpletable\">\n",
       "<caption>Generalized Linear Model Regression Results</caption>\n",
       "<tr>\n",
       "  <th>Dep. Variable:</th>       <td>Converted</td>    <th>  No. Observations:  </th>  <td>  5098</td> \n",
       "</tr>\n",
       "<tr>\n",
       "  <th>Model:</th>                  <td>GLM</td>       <th>  Df Residuals:      </th>  <td>  5085</td> \n",
       "</tr>\n",
       "<tr>\n",
       "  <th>Model Family:</th>        <td>Binomial</td>     <th>  Df Model:          </th>  <td>    12</td> \n",
       "</tr>\n",
       "<tr>\n",
       "  <th>Link Function:</th>         <td>Logit</td>      <th>  Scale:             </th> <td>  1.0000</td>\n",
       "</tr>\n",
       "<tr>\n",
       "  <th>Method:</th>                <td>IRLS</td>       <th>  Log-Likelihood:    </th> <td> -2371.7</td>\n",
       "</tr>\n",
       "<tr>\n",
       "  <th>Date:</th>            <td>Thu, 19 Dec 2024</td> <th>  Deviance:          </th> <td>  4743.4</td>\n",
       "</tr>\n",
       "<tr>\n",
       "  <th>Time:</th>                <td>17:15:04</td>     <th>  Pearson chi2:      </th> <td>5.39e+03</td>\n",
       "</tr>\n",
       "<tr>\n",
       "  <th>No. Iterations:</th>          <td>7</td>        <th>  Pseudo R-squ. (CS):</th>  <td>0.3651</td> \n",
       "</tr>\n",
       "<tr>\n",
       "  <th>Covariance Type:</th>     <td>nonrobust</td>    <th>                     </th>     <td> </td>   \n",
       "</tr>\n",
       "</table>\n",
       "<table class=\"simpletable\">\n",
       "<tr>\n",
       "                     <td></td>                       <th>coef</th>     <th>std err</th>      <th>z</th>      <th>P>|z|</th>  <th>[0.025</th>    <th>0.975]</th>  \n",
       "</tr>\n",
       "<tr>\n",
       "  <th>const</th>                                  <td>   -0.4661</td> <td>    0.553</td> <td>   -0.843</td> <td> 0.399</td> <td>   -1.549</td> <td>    0.617</td>\n",
       "</tr>\n",
       "<tr>\n",
       "  <th>TotalVisits</th>                            <td>   11.2493</td> <td>    2.534</td> <td>    4.440</td> <td> 0.000</td> <td>    6.284</td> <td>   16.215</td>\n",
       "</tr>\n",
       "<tr>\n",
       "  <th>Total Time Spent on Website</th>            <td>    4.4975</td> <td>    0.175</td> <td>   25.740</td> <td> 0.000</td> <td>    4.155</td> <td>    4.840</td>\n",
       "</tr>\n",
       "<tr>\n",
       "  <th>Lead Origin_Lead Add Form</th>              <td>    4.1162</td> <td>    0.233</td> <td>   17.658</td> <td> 0.000</td> <td>    3.659</td> <td>    4.573</td>\n",
       "</tr>\n",
       "<tr>\n",
       "  <th>Lead Source_Olark Chat</th>                 <td>    1.4906</td> <td>    0.114</td> <td>   13.049</td> <td> 0.000</td> <td>    1.267</td> <td>    1.715</td>\n",
       "</tr>\n",
       "<tr>\n",
       "  <th>Lead Source_Welingak Website</th>           <td>    2.3334</td> <td>    1.031</td> <td>    2.264</td> <td> 0.024</td> <td>    0.313</td> <td>    4.353</td>\n",
       "</tr>\n",
       "<tr>\n",
       "  <th>Do Not Email_Yes</th>                       <td>   -1.4072</td> <td>    0.179</td> <td>   -7.875</td> <td> 0.000</td> <td>   -1.757</td> <td>   -1.057</td>\n",
       "</tr>\n",
       "<tr>\n",
       "  <th>Last Activity_Had a Phone Conversation</th> <td>    2.8593</td> <td>    0.794</td> <td>    3.602</td> <td> 0.000</td> <td>    1.303</td> <td>    4.415</td>\n",
       "</tr>\n",
       "<tr>\n",
       "  <th>Last Activity_SMS Sent</th>                 <td>    1.2518</td> <td>    0.077</td> <td>   16.215</td> <td> 0.000</td> <td>    1.101</td> <td>    1.403</td>\n",
       "</tr>\n",
       "<tr>\n",
       "  <th>Occupation_Student</th>                     <td>   -1.7169</td> <td>    0.582</td> <td>   -2.951</td> <td> 0.003</td> <td>   -2.857</td> <td>   -0.577</td>\n",
       "</tr>\n",
       "<tr>\n",
       "  <th>Occupation_Unemployed</th>                  <td>   -1.9300</td> <td>    0.549</td> <td>   -3.516</td> <td> 0.000</td> <td>   -3.006</td> <td>   -0.854</td>\n",
       "</tr>\n",
       "<tr>\n",
       "  <th>Occupation_Working Professional</th>        <td>    0.6421</td> <td>    0.575</td> <td>    1.117</td> <td> 0.264</td> <td>   -0.485</td> <td>    1.769</td>\n",
       "</tr>\n",
       "<tr>\n",
       "  <th>Last Notable Activity_Unreachable</th>      <td>    2.9364</td> <td>    0.797</td> <td>    3.685</td> <td> 0.000</td> <td>    1.375</td> <td>    4.498</td>\n",
       "</tr>\n",
       "</table>"
      ],
      "text/latex": [
       "\\begin{center}\n",
       "\\begin{tabular}{lclc}\n",
       "\\toprule\n",
       "\\textbf{Dep. Variable:}                          &    Converted     & \\textbf{  No. Observations:  } &     5098    \\\\\n",
       "\\textbf{Model:}                                  &       GLM        & \\textbf{  Df Residuals:      } &     5085    \\\\\n",
       "\\textbf{Model Family:}                           &     Binomial     & \\textbf{  Df Model:          } &       12    \\\\\n",
       "\\textbf{Link Function:}                          &      Logit       & \\textbf{  Scale:             } &    1.0000   \\\\\n",
       "\\textbf{Method:}                                 &       IRLS       & \\textbf{  Log-Likelihood:    } &   -2371.7   \\\\\n",
       "\\textbf{Date:}                                   & Thu, 19 Dec 2024 & \\textbf{  Deviance:          } &    4743.4   \\\\\n",
       "\\textbf{Time:}                                   &     17:15:04     & \\textbf{  Pearson chi2:      } &  5.39e+03   \\\\\n",
       "\\textbf{No. Iterations:}                         &        7         & \\textbf{  Pseudo R-squ. (CS):} &   0.3651    \\\\\n",
       "\\textbf{Covariance Type:}                        &    nonrobust     & \\textbf{                     } &             \\\\\n",
       "\\bottomrule\n",
       "\\end{tabular}\n",
       "\\begin{tabular}{lcccccc}\n",
       "                                                 & \\textbf{coef} & \\textbf{std err} & \\textbf{z} & \\textbf{P$> |$z$|$} & \\textbf{[0.025} & \\textbf{0.975]}  \\\\\n",
       "\\midrule\n",
       "\\textbf{const}                                   &      -0.4661  &        0.553     &    -0.843  &         0.399        &       -1.549    &        0.617     \\\\\n",
       "\\textbf{TotalVisits}                             &      11.2493  &        2.534     &     4.440  &         0.000        &        6.284    &       16.215     \\\\\n",
       "\\textbf{Total Time Spent on Website}             &       4.4975  &        0.175     &    25.740  &         0.000        &        4.155    &        4.840     \\\\\n",
       "\\textbf{Lead Origin\\_Lead Add Form}              &       4.1162  &        0.233     &    17.658  &         0.000        &        3.659    &        4.573     \\\\\n",
       "\\textbf{Lead Source\\_Olark Chat}                 &       1.4906  &        0.114     &    13.049  &         0.000        &        1.267    &        1.715     \\\\\n",
       "\\textbf{Lead Source\\_Welingak Website}           &       2.3334  &        1.031     &     2.264  &         0.024        &        0.313    &        4.353     \\\\\n",
       "\\textbf{Do Not Email\\_Yes}                       &      -1.4072  &        0.179     &    -7.875  &         0.000        &       -1.757    &       -1.057     \\\\\n",
       "\\textbf{Last Activity\\_Had a Phone Conversation} &       2.8593  &        0.794     &     3.602  &         0.000        &        1.303    &        4.415     \\\\\n",
       "\\textbf{Last Activity\\_SMS Sent}                 &       1.2518  &        0.077     &    16.215  &         0.000        &        1.101    &        1.403     \\\\\n",
       "\\textbf{Occupation\\_Student}                     &      -1.7169  &        0.582     &    -2.951  &         0.003        &       -2.857    &       -0.577     \\\\\n",
       "\\textbf{Occupation\\_Unemployed}                  &      -1.9300  &        0.549     &    -3.516  &         0.000        &       -3.006    &       -0.854     \\\\\n",
       "\\textbf{Occupation\\_Working Professional}        &       0.6421  &        0.575     &     1.117  &         0.264        &       -0.485    &        1.769     \\\\\n",
       "\\textbf{Last Notable Activity\\_Unreachable}      &       2.9364  &        0.797     &     3.685  &         0.000        &        1.375    &        4.498     \\\\\n",
       "\\bottomrule\n",
       "\\end{tabular}\n",
       "%\\caption{Generalized Linear Model Regression Results}\n",
       "\\end{center}"
      ],
      "text/plain": [
       "<class 'statsmodels.iolib.summary.Summary'>\n",
       "\"\"\"\n",
       "                 Generalized Linear Model Regression Results                  \n",
       "==============================================================================\n",
       "Dep. Variable:              Converted   No. Observations:                 5098\n",
       "Model:                            GLM   Df Residuals:                     5085\n",
       "Model Family:                Binomial   Df Model:                           12\n",
       "Link Function:                  Logit   Scale:                          1.0000\n",
       "Method:                          IRLS   Log-Likelihood:                -2371.7\n",
       "Date:                Thu, 19 Dec 2024   Deviance:                       4743.4\n",
       "Time:                        17:15:04   Pearson chi2:                 5.39e+03\n",
       "No. Iterations:                     7   Pseudo R-squ. (CS):             0.3651\n",
       "Covariance Type:            nonrobust                                         \n",
       "==========================================================================================================\n",
       "                                             coef    std err          z      P>|z|      [0.025      0.975]\n",
       "----------------------------------------------------------------------------------------------------------\n",
       "const                                     -0.4661      0.553     -0.843      0.399      -1.549       0.617\n",
       "TotalVisits                               11.2493      2.534      4.440      0.000       6.284      16.215\n",
       "Total Time Spent on Website                4.4975      0.175     25.740      0.000       4.155       4.840\n",
       "Lead Origin_Lead Add Form                  4.1162      0.233     17.658      0.000       3.659       4.573\n",
       "Lead Source_Olark Chat                     1.4906      0.114     13.049      0.000       1.267       1.715\n",
       "Lead Source_Welingak Website               2.3334      1.031      2.264      0.024       0.313       4.353\n",
       "Do Not Email_Yes                          -1.4072      0.179     -7.875      0.000      -1.757      -1.057\n",
       "Last Activity_Had a Phone Conversation     2.8593      0.794      3.602      0.000       1.303       4.415\n",
       "Last Activity_SMS Sent                     1.2518      0.077     16.215      0.000       1.101       1.403\n",
       "Occupation_Student                        -1.7169      0.582     -2.951      0.003      -2.857      -0.577\n",
       "Occupation_Unemployed                     -1.9300      0.549     -3.516      0.000      -3.006      -0.854\n",
       "Occupation_Working Professional            0.6421      0.575      1.117      0.264      -0.485       1.769\n",
       "Last Notable Activity_Unreachable          2.9364      0.797      3.685      0.000       1.375       4.498\n",
       "==========================================================================================================\n",
       "\"\"\""
      ]
     },
     "execution_count": 4333,
     "metadata": {},
     "output_type": "execute_result"
    }
   ],
   "source": [
    "X_train_sm = sm.add_constant(X_train[cols])\n",
    "\n",
    "model4 = sm.GLM(y_train, X_train_sm, family = sm.families.Binomial())\n",
    "res4 = model4.fit()\n",
    "res4.summary()"
   ]
  },
  {
   "cell_type": "code",
   "execution_count": 4334,
   "id": "083adc15-6671-4bad-a132-81fdcb17074f",
   "metadata": {},
   "outputs": [
    {
     "name": "stdout",
     "output_type": "stream",
     "text": [
      "                                   Feature         VIF\n",
      "0                                    const  201.336461\n",
      "1                              TotalVisits    1.134530\n",
      "2              Total Time Spent on Website    1.278256\n",
      "3                Lead Origin_Lead Add Form    1.542864\n",
      "4                   Lead Source_Olark Chat    1.254135\n",
      "5             Lead Source_Welingak Website    1.287278\n",
      "6                         Do Not Email_Yes    1.013144\n",
      "7   Last Activity_Had a Phone Conversation    1.004365\n",
      "8                   Last Activity_SMS Sent    1.049653\n",
      "9                       Occupation_Student    6.680638\n",
      "10                   Occupation_Unemployed   23.813996\n",
      "11         Occupation_Working Professional   19.388296\n",
      "12       Last Notable Activity_Unreachable    1.004336\n"
     ]
    }
   ],
   "source": [
    "### calculate VIF\n",
    "\n",
    "vif_data = pd.DataFrame()\n",
    "vif_data[\"Feature\"]=X_train_sm.columns\n",
    "\n",
    "vif_data[\"VIF\"]=[variance_inflation_factor(X_train_sm.values,i) for i in range(len(X_train_sm.columns))]\n",
    "print(vif_data)"
   ]
  },
  {
   "cell_type": "code",
   "execution_count": 4335,
   "id": "f22988f9-62a0-4076-bc3a-380c194cf616",
   "metadata": {},
   "outputs": [],
   "source": [
    "### Column, \"What is your current occupation_Working Professional\" is having high p value & VIF, It can be removed\n",
    "cols.remove(\"Occupation_Working Professional\")"
   ]
  },
  {
   "cell_type": "markdown",
   "id": "433c8294-81a4-42f1-868c-8eba8a287ca7",
   "metadata": {},
   "source": [
    "#### Model 5 after dropping \"Occupation_Working Professional\""
   ]
  },
  {
   "cell_type": "code",
   "execution_count": 4337,
   "id": "1d9dba95-a1ad-4fe6-9d5a-6eb18880d834",
   "metadata": {},
   "outputs": [
    {
     "data": {
      "text/html": [
       "<table class=\"simpletable\">\n",
       "<caption>Generalized Linear Model Regression Results</caption>\n",
       "<tr>\n",
       "  <th>Dep. Variable:</th>       <td>Converted</td>    <th>  No. Observations:  </th>  <td>  5098</td> \n",
       "</tr>\n",
       "<tr>\n",
       "  <th>Model:</th>                  <td>GLM</td>       <th>  Df Residuals:      </th>  <td>  5086</td> \n",
       "</tr>\n",
       "<tr>\n",
       "  <th>Model Family:</th>        <td>Binomial</td>     <th>  Df Model:          </th>  <td>    11</td> \n",
       "</tr>\n",
       "<tr>\n",
       "  <th>Link Function:</th>         <td>Logit</td>      <th>  Scale:             </th> <td>  1.0000</td>\n",
       "</tr>\n",
       "<tr>\n",
       "  <th>Method:</th>                <td>IRLS</td>       <th>  Log-Likelihood:    </th> <td> -2372.3</td>\n",
       "</tr>\n",
       "<tr>\n",
       "  <th>Date:</th>            <td>Thu, 19 Dec 2024</td> <th>  Deviance:          </th> <td>  4744.5</td>\n",
       "</tr>\n",
       "<tr>\n",
       "  <th>Time:</th>                <td>17:15:04</td>     <th>  Pearson chi2:      </th> <td>5.37e+03</td>\n",
       "</tr>\n",
       "<tr>\n",
       "  <th>No. Iterations:</th>          <td>7</td>        <th>  Pseudo R-squ. (CS):</th>  <td>0.3650</td> \n",
       "</tr>\n",
       "<tr>\n",
       "  <th>Covariance Type:</th>     <td>nonrobust</td>    <th>                     </th>     <td> </td>   \n",
       "</tr>\n",
       "</table>\n",
       "<table class=\"simpletable\">\n",
       "<tr>\n",
       "                     <td></td>                       <th>coef</th>     <th>std err</th>      <th>z</th>      <th>P>|z|</th>  <th>[0.025</th>    <th>0.975]</th>  \n",
       "</tr>\n",
       "<tr>\n",
       "  <th>const</th>                                  <td>    0.1243</td> <td>    0.181</td> <td>    0.687</td> <td> 0.492</td> <td>   -0.231</td> <td>    0.479</td>\n",
       "</tr>\n",
       "<tr>\n",
       "  <th>TotalVisits</th>                            <td>   11.1552</td> <td>    2.528</td> <td>    4.412</td> <td> 0.000</td> <td>    6.199</td> <td>   16.111</td>\n",
       "</tr>\n",
       "<tr>\n",
       "  <th>Total Time Spent on Website</th>            <td>    4.4982</td> <td>    0.175</td> <td>   25.741</td> <td> 0.000</td> <td>    4.156</td> <td>    4.841</td>\n",
       "</tr>\n",
       "<tr>\n",
       "  <th>Lead Origin_Lead Add Form</th>              <td>    4.1157</td> <td>    0.233</td> <td>   17.659</td> <td> 0.000</td> <td>    3.659</td> <td>    4.572</td>\n",
       "</tr>\n",
       "<tr>\n",
       "  <th>Lead Source_Olark Chat</th>                 <td>    1.4903</td> <td>    0.114</td> <td>   13.052</td> <td> 0.000</td> <td>    1.266</td> <td>    1.714</td>\n",
       "</tr>\n",
       "<tr>\n",
       "  <th>Lead Source_Welingak Website</th>           <td>    2.3323</td> <td>    1.031</td> <td>    2.263</td> <td> 0.024</td> <td>    0.312</td> <td>    4.352</td>\n",
       "</tr>\n",
       "<tr>\n",
       "  <th>Do Not Email_Yes</th>                       <td>   -1.4056</td> <td>    0.179</td> <td>   -7.867</td> <td> 0.000</td> <td>   -1.756</td> <td>   -1.055</td>\n",
       "</tr>\n",
       "<tr>\n",
       "  <th>Last Activity_Had a Phone Conversation</th> <td>    2.8622</td> <td>    0.794</td> <td>    3.606</td> <td> 0.000</td> <td>    1.306</td> <td>    4.418</td>\n",
       "</tr>\n",
       "<tr>\n",
       "  <th>Last Activity_SMS Sent</th>                 <td>    1.2543</td> <td>    0.077</td> <td>   16.264</td> <td> 0.000</td> <td>    1.103</td> <td>    1.406</td>\n",
       "</tr>\n",
       "<tr>\n",
       "  <th>Occupation_Student</th>                     <td>   -2.3066</td> <td>    0.258</td> <td>   -8.925</td> <td> 0.000</td> <td>   -2.813</td> <td>   -1.800</td>\n",
       "</tr>\n",
       "<tr>\n",
       "  <th>Occupation_Unemployed</th>                  <td>   -2.5201</td> <td>    0.171</td> <td>  -14.694</td> <td> 0.000</td> <td>   -2.856</td> <td>   -2.184</td>\n",
       "</tr>\n",
       "<tr>\n",
       "  <th>Last Notable Activity_Unreachable</th>      <td>    2.9375</td> <td>    0.797</td> <td>    3.687</td> <td> 0.000</td> <td>    1.376</td> <td>    4.499</td>\n",
       "</tr>\n",
       "</table>"
      ],
      "text/latex": [
       "\\begin{center}\n",
       "\\begin{tabular}{lclc}\n",
       "\\toprule\n",
       "\\textbf{Dep. Variable:}                          &    Converted     & \\textbf{  No. Observations:  } &     5098    \\\\\n",
       "\\textbf{Model:}                                  &       GLM        & \\textbf{  Df Residuals:      } &     5086    \\\\\n",
       "\\textbf{Model Family:}                           &     Binomial     & \\textbf{  Df Model:          } &       11    \\\\\n",
       "\\textbf{Link Function:}                          &      Logit       & \\textbf{  Scale:             } &    1.0000   \\\\\n",
       "\\textbf{Method:}                                 &       IRLS       & \\textbf{  Log-Likelihood:    } &   -2372.3   \\\\\n",
       "\\textbf{Date:}                                   & Thu, 19 Dec 2024 & \\textbf{  Deviance:          } &    4744.5   \\\\\n",
       "\\textbf{Time:}                                   &     17:15:04     & \\textbf{  Pearson chi2:      } &  5.37e+03   \\\\\n",
       "\\textbf{No. Iterations:}                         &        7         & \\textbf{  Pseudo R-squ. (CS):} &   0.3650    \\\\\n",
       "\\textbf{Covariance Type:}                        &    nonrobust     & \\textbf{                     } &             \\\\\n",
       "\\bottomrule\n",
       "\\end{tabular}\n",
       "\\begin{tabular}{lcccccc}\n",
       "                                                 & \\textbf{coef} & \\textbf{std err} & \\textbf{z} & \\textbf{P$> |$z$|$} & \\textbf{[0.025} & \\textbf{0.975]}  \\\\\n",
       "\\midrule\n",
       "\\textbf{const}                                   &       0.1243  &        0.181     &     0.687  &         0.492        &       -0.231    &        0.479     \\\\\n",
       "\\textbf{TotalVisits}                             &      11.1552  &        2.528     &     4.412  &         0.000        &        6.199    &       16.111     \\\\\n",
       "\\textbf{Total Time Spent on Website}             &       4.4982  &        0.175     &    25.741  &         0.000        &        4.156    &        4.841     \\\\\n",
       "\\textbf{Lead Origin\\_Lead Add Form}              &       4.1157  &        0.233     &    17.659  &         0.000        &        3.659    &        4.572     \\\\\n",
       "\\textbf{Lead Source\\_Olark Chat}                 &       1.4903  &        0.114     &    13.052  &         0.000        &        1.266    &        1.714     \\\\\n",
       "\\textbf{Lead Source\\_Welingak Website}           &       2.3323  &        1.031     &     2.263  &         0.024        &        0.312    &        4.352     \\\\\n",
       "\\textbf{Do Not Email\\_Yes}                       &      -1.4056  &        0.179     &    -7.867  &         0.000        &       -1.756    &       -1.055     \\\\\n",
       "\\textbf{Last Activity\\_Had a Phone Conversation} &       2.8622  &        0.794     &     3.606  &         0.000        &        1.306    &        4.418     \\\\\n",
       "\\textbf{Last Activity\\_SMS Sent}                 &       1.2543  &        0.077     &    16.264  &         0.000        &        1.103    &        1.406     \\\\\n",
       "\\textbf{Occupation\\_Student}                     &      -2.3066  &        0.258     &    -8.925  &         0.000        &       -2.813    &       -1.800     \\\\\n",
       "\\textbf{Occupation\\_Unemployed}                  &      -2.5201  &        0.171     &   -14.694  &         0.000        &       -2.856    &       -2.184     \\\\\n",
       "\\textbf{Last Notable Activity\\_Unreachable}      &       2.9375  &        0.797     &     3.687  &         0.000        &        1.376    &        4.499     \\\\\n",
       "\\bottomrule\n",
       "\\end{tabular}\n",
       "%\\caption{Generalized Linear Model Regression Results}\n",
       "\\end{center}"
      ],
      "text/plain": [
       "<class 'statsmodels.iolib.summary.Summary'>\n",
       "\"\"\"\n",
       "                 Generalized Linear Model Regression Results                  \n",
       "==============================================================================\n",
       "Dep. Variable:              Converted   No. Observations:                 5098\n",
       "Model:                            GLM   Df Residuals:                     5086\n",
       "Model Family:                Binomial   Df Model:                           11\n",
       "Link Function:                  Logit   Scale:                          1.0000\n",
       "Method:                          IRLS   Log-Likelihood:                -2372.3\n",
       "Date:                Thu, 19 Dec 2024   Deviance:                       4744.5\n",
       "Time:                        17:15:04   Pearson chi2:                 5.37e+03\n",
       "No. Iterations:                     7   Pseudo R-squ. (CS):             0.3650\n",
       "Covariance Type:            nonrobust                                         \n",
       "==========================================================================================================\n",
       "                                             coef    std err          z      P>|z|      [0.025      0.975]\n",
       "----------------------------------------------------------------------------------------------------------\n",
       "const                                      0.1243      0.181      0.687      0.492      -0.231       0.479\n",
       "TotalVisits                               11.1552      2.528      4.412      0.000       6.199      16.111\n",
       "Total Time Spent on Website                4.4982      0.175     25.741      0.000       4.156       4.841\n",
       "Lead Origin_Lead Add Form                  4.1157      0.233     17.659      0.000       3.659       4.572\n",
       "Lead Source_Olark Chat                     1.4903      0.114     13.052      0.000       1.266       1.714\n",
       "Lead Source_Welingak Website               2.3323      1.031      2.263      0.024       0.312       4.352\n",
       "Do Not Email_Yes                          -1.4056      0.179     -7.867      0.000      -1.756      -1.055\n",
       "Last Activity_Had a Phone Conversation     2.8622      0.794      3.606      0.000       1.306       4.418\n",
       "Last Activity_SMS Sent                     1.2543      0.077     16.264      0.000       1.103       1.406\n",
       "Occupation_Student                        -2.3066      0.258     -8.925      0.000      -2.813      -1.800\n",
       "Occupation_Unemployed                     -2.5201      0.171    -14.694      0.000      -2.856      -2.184\n",
       "Last Notable Activity_Unreachable          2.9375      0.797      3.687      0.000       1.376       4.499\n",
       "==========================================================================================================\n",
       "\"\"\""
      ]
     },
     "execution_count": 4337,
     "metadata": {},
     "output_type": "execute_result"
    }
   ],
   "source": [
    "X_train_sm = sm.add_constant(X_train[cols])\n",
    "\n",
    "model5 = sm.GLM(y_train, X_train_sm, family = sm.families.Binomial())\n",
    "res5 = model5.fit()\n",
    "res5.summary()"
   ]
  },
  {
   "cell_type": "code",
   "execution_count": 4338,
   "id": "1ff63128-97f8-48fa-b990-bfb0355db30b",
   "metadata": {},
   "outputs": [
    {
     "name": "stdout",
     "output_type": "stream",
     "text": [
      "                                   Feature        VIF\n",
      "0                                    const  14.605648\n",
      "1                              TotalVisits   1.134055\n",
      "2              Total Time Spent on Website   1.278180\n",
      "3                Lead Origin_Lead Add Form   1.542206\n",
      "4                   Lead Source_Olark Chat   1.254116\n",
      "5             Lead Source_Welingak Website   1.286834\n",
      "6                         Do Not Email_Yes   1.013144\n",
      "7   Last Activity_Had a Phone Conversation   1.004205\n",
      "8                   Last Activity_SMS Sent   1.044433\n",
      "9                       Occupation_Student   1.266618\n",
      "10                   Occupation_Unemployed   1.330573\n",
      "11       Last Notable Activity_Unreachable   1.002814\n"
     ]
    }
   ],
   "source": [
    "### calculate VIF\n",
    "\n",
    "vif_data = pd.DataFrame()\n",
    "vif_data[\"Feature\"]=X_train_sm.columns\n",
    "\n",
    "vif_data[\"VIF\"]=[variance_inflation_factor(X_train_sm.values,i) for i in range(len(X_train_sm.columns))]\n",
    "print(vif_data)"
   ]
  },
  {
   "cell_type": "code",
   "execution_count": 4339,
   "id": "b59aab62-ad10-4f41-a966-6f7ed85fe6ea",
   "metadata": {},
   "outputs": [],
   "source": [
    "### Getting Predicted value on train set\n",
    "\n",
    "y_train_pred = res5.predict(X_train_sm)"
   ]
  },
  {
   "cell_type": "code",
   "execution_count": 4340,
   "id": "895cdbd1-dd4f-4cf6-be8b-130304fb15e8",
   "metadata": {},
   "outputs": [
    {
     "data": {
      "text/plain": [
       "array([0.66138906, 0.88752546, 0.28791156, ..., 0.91493633, 0.20155717,\n",
       "       0.3751245 ])"
      ]
     },
     "execution_count": 4340,
     "metadata": {},
     "output_type": "execute_result"
    }
   ],
   "source": [
    "### reshaping\n",
    "y_train_pred = y_train_pred.values.reshape(-1)\n",
    "y_train_pred"
   ]
  },
  {
   "cell_type": "markdown",
   "id": "311346e3-177b-4e01-859f-313d13f27e7e",
   "metadata": {},
   "source": [
    "#### Creating a dataframe with actual Lead converted and the predicted probabilities"
   ]
  },
  {
   "cell_type": "code",
   "execution_count": 4342,
   "id": "408b1d0b-6bf7-4959-bb6f-506e430e8aec",
   "metadata": {},
   "outputs": [
    {
     "data": {
      "text/html": [
       "<div>\n",
       "<style scoped>\n",
       "    .dataframe tbody tr th:only-of-type {\n",
       "        vertical-align: middle;\n",
       "    }\n",
       "\n",
       "    .dataframe tbody tr th {\n",
       "        vertical-align: top;\n",
       "    }\n",
       "\n",
       "    .dataframe thead th {\n",
       "        text-align: right;\n",
       "    }\n",
       "</style>\n",
       "<table border=\"1\" class=\"dataframe\">\n",
       "  <thead>\n",
       "    <tr style=\"text-align: right;\">\n",
       "      <th></th>\n",
       "      <th>Lead</th>\n",
       "      <th>Lead_prob</th>\n",
       "      <th>Lead Number</th>\n",
       "    </tr>\n",
       "  </thead>\n",
       "  <tbody>\n",
       "    <tr>\n",
       "      <th>0</th>\n",
       "      <td>1</td>\n",
       "      <td>0.661389</td>\n",
       "      <td>4719</td>\n",
       "    </tr>\n",
       "    <tr>\n",
       "      <th>1</th>\n",
       "      <td>1</td>\n",
       "      <td>0.887525</td>\n",
       "      <td>4453</td>\n",
       "    </tr>\n",
       "    <tr>\n",
       "      <th>2</th>\n",
       "      <td>0</td>\n",
       "      <td>0.287912</td>\n",
       "      <td>5770</td>\n",
       "    </tr>\n",
       "    <tr>\n",
       "      <th>3</th>\n",
       "      <td>1</td>\n",
       "      <td>0.940483</td>\n",
       "      <td>1774</td>\n",
       "    </tr>\n",
       "    <tr>\n",
       "      <th>4</th>\n",
       "      <td>0</td>\n",
       "      <td>0.550711</td>\n",
       "      <td>403</td>\n",
       "    </tr>\n",
       "  </tbody>\n",
       "</table>\n",
       "</div>"
      ],
      "text/plain": [
       "   Lead  Lead_prob  Lead Number\n",
       "0     1   0.661389         4719\n",
       "1     1   0.887525         4453\n",
       "2     0   0.287912         5770\n",
       "3     1   0.940483         1774\n",
       "4     0   0.550711          403"
      ]
     },
     "execution_count": 4342,
     "metadata": {},
     "output_type": "execute_result"
    }
   ],
   "source": [
    "y_train_pred_final = pd.DataFrame({\"Lead\":y_train.values, \"Lead_prob\":y_train_pred})\n",
    "y_train_pred_final[\"Lead Number\"] = y_train.index\n",
    "y_train_pred_final.head()"
   ]
  },
  {
   "cell_type": "markdown",
   "id": "6ba1148d-7b69-480f-860f-18deb8b54415",
   "metadata": {},
   "source": [
    "### Creating a new column 'predicted' with 1 if Lead probability is > 80% else 0"
   ]
  },
  {
   "cell_type": "code",
   "execution_count": 4583,
   "id": "89adce4c-485a-4646-950a-615edd61799a",
   "metadata": {},
   "outputs": [
    {
     "data": {
      "text/html": [
       "<div>\n",
       "<style scoped>\n",
       "    .dataframe tbody tr th:only-of-type {\n",
       "        vertical-align: middle;\n",
       "    }\n",
       "\n",
       "    .dataframe tbody tr th {\n",
       "        vertical-align: top;\n",
       "    }\n",
       "\n",
       "    .dataframe thead th {\n",
       "        text-align: right;\n",
       "    }\n",
       "</style>\n",
       "<table border=\"1\" class=\"dataframe\">\n",
       "  <thead>\n",
       "    <tr style=\"text-align: right;\">\n",
       "      <th></th>\n",
       "      <th>Lead</th>\n",
       "      <th>Lead_prob</th>\n",
       "      <th>Lead Number</th>\n",
       "      <th>Predicted</th>\n",
       "    </tr>\n",
       "  </thead>\n",
       "  <tbody>\n",
       "    <tr>\n",
       "      <th>0</th>\n",
       "      <td>1</td>\n",
       "      <td>0.661389</td>\n",
       "      <td>4719</td>\n",
       "      <td>1</td>\n",
       "    </tr>\n",
       "    <tr>\n",
       "      <th>1</th>\n",
       "      <td>1</td>\n",
       "      <td>0.887525</td>\n",
       "      <td>4453</td>\n",
       "      <td>1</td>\n",
       "    </tr>\n",
       "    <tr>\n",
       "      <th>2</th>\n",
       "      <td>0</td>\n",
       "      <td>0.287912</td>\n",
       "      <td>5770</td>\n",
       "      <td>0</td>\n",
       "    </tr>\n",
       "    <tr>\n",
       "      <th>3</th>\n",
       "      <td>1</td>\n",
       "      <td>0.940483</td>\n",
       "      <td>1774</td>\n",
       "      <td>1</td>\n",
       "    </tr>\n",
       "    <tr>\n",
       "      <th>4</th>\n",
       "      <td>0</td>\n",
       "      <td>0.550711</td>\n",
       "      <td>403</td>\n",
       "      <td>1</td>\n",
       "    </tr>\n",
       "  </tbody>\n",
       "</table>\n",
       "</div>"
      ],
      "text/plain": [
       "   Lead  Lead_prob  Lead Number  Predicted\n",
       "0     1   0.661389         4719          1\n",
       "1     1   0.887525         4453          1\n",
       "2     0   0.287912         5770          0\n",
       "3     1   0.940483         1774          1\n",
       "4     0   0.550711          403          1"
      ]
     },
     "execution_count": 4583,
     "metadata": {},
     "output_type": "execute_result"
    }
   ],
   "source": [
    "y_train_pred_final[\"Predicted\"] = y_train_pred_final.Lead_prob.map(lambda x: 1 if x > 0.43 else 0)\n",
    "y_train_pred_final.head()"
   ]
  },
  {
   "cell_type": "code",
   "execution_count": 4585,
   "id": "be6fb1cd-1266-4e4a-8f76-f74709893bde",
   "metadata": {},
   "outputs": [
    {
     "name": "stdout",
     "output_type": "stream",
     "text": [
      "Accuracy score for the model :  0.789132993330718\n"
     ]
    }
   ],
   "source": [
    "### Accuracy of the model\n",
    "accuracy = metrics.accuracy_score(y_train_pred_final.Lead, y_train_pred_final.Predicted)\n",
    "print(\"Accuracy score for the model : \", accuracy)"
   ]
  },
  {
   "cell_type": "markdown",
   "id": "4b1ff93e-1991-4841-a0ae-1bda8a947ebe",
   "metadata": {},
   "source": [
    "#### Create confusion matrix"
   ]
  },
  {
   "cell_type": "code",
   "execution_count": 4587,
   "id": "526b23d6-71c8-4ef4-b690-03db47412689",
   "metadata": {},
   "outputs": [
    {
     "name": "stdout",
     "output_type": "stream",
     "text": [
      "Confusion matrix for the model: \n",
      "  [[2100  549]\n",
      " [ 526 1923]]\n"
     ]
    }
   ],
   "source": [
    "confusion = metrics.confusion_matrix(y_train_pred_final.Lead, y_train_pred_final.Predicted)\n",
    "print(\"Confusion matrix for the model: \\n \", confusion)"
   ]
  },
  {
   "cell_type": "markdown",
   "id": "6967f149-d31c-46ef-9f99-8ea0ffd79ae8",
   "metadata": {},
   "source": [
    "#### Determining other metrics of the model"
   ]
  },
  {
   "cell_type": "code",
   "execution_count": 4589,
   "id": "1038165f-ec8b-4493-9eae-a6980557ab14",
   "metadata": {},
   "outputs": [],
   "source": [
    "TP = confusion[1,1]\n",
    "TN = confusion[0,0]\n",
    "FP = confusion[0,1]\n",
    "FN = confusion[1,0]"
   ]
  },
  {
   "cell_type": "code",
   "execution_count": 4591,
   "id": "ee6849e7-40a4-49d8-882c-2977e305b293",
   "metadata": {},
   "outputs": [
    {
     "name": "stdout",
     "output_type": "stream",
     "text": [
      "[0.         0.20724802 1.        ] [0.         0.78521846 1.        ] [2 1 0]\n"
     ]
    }
   ],
   "source": [
    "fpr, tpr, thresholds = metrics.roc_curve(y_train_pred_final.Lead, y_train_pred_final.Predicted, \n",
    "                                         drop_intermediate = False)\n",
    "print(fpr, tpr, thresholds)"
   ]
  },
  {
   "cell_type": "code",
   "execution_count": 4593,
   "id": "0d8672a0-c35c-4560-bd58-19843246f5e3",
   "metadata": {},
   "outputs": [],
   "source": [
    "### Draw ROC curve\n",
    "\n",
    "def draw_roc(actual, probabls):\n",
    "    fpr, tpr, thresholds = metrics.roc_curve(actual, probabls, drop_intermediate = False)\n",
    "    auc_score = metrics.roc_auc_score(actual, probabls)\n",
    "    plt.figure(figsize=(5,5))\n",
    "    plt.plot(fpr, tpr, label='ROC curve (area = %0.2f)' % auc_score)\n",
    "    plt.plot([0, 1], [0,1], 'k--')\n",
    "    plt.xlim([0.0, 1.0])\n",
    "    plt.ylim([0.0, 1.05])\n",
    "    plt.xlabel('False Positivity Rate')\n",
    "    plt.ylabel('True Positivity Rate')\n",
    "    plt.title('ROC Curve')\n",
    "    plt.legend(loc='lower right')\n",
    "    plt.show()\n",
    "\n",
    "    return None"
   ]
  },
  {
   "cell_type": "code",
   "execution_count": 4595,
   "id": "40eb7745-ecfa-496d-b2ee-1e6d78beb044",
   "metadata": {},
   "outputs": [
    {
     "data": {
      "image/png": "[encoded data removed]",
      "text/plain": [
       "<Figure size 500x500 with 1 Axes>"
      ]
     },
     "metadata": {},
     "output_type": "display_data"
    }
   ],
   "source": [
    "draw_roc(y_train_pred_final.Lead, y_train_pred_final.Predicted)"
   ]
  },
  {
   "cell_type": "code",
   "execution_count": 4597,
   "id": "4176d3c0-fe49-45b5-8fb9-30645e5f1963",
   "metadata": {},
   "outputs": [
    {
     "data": {
      "text/plain": [
       "0.7852184565128624"
      ]
     },
     "execution_count": 4597,
     "metadata": {},
     "output_type": "execute_result"
    }
   ],
   "source": [
    "#### Sensitivity\n",
    "Sensitivity = TP/(TP+FN)\n",
    "Sensitivity"
   ]
  },
  {
   "cell_type": "code",
   "execution_count": 4599,
   "id": "c1e0669f-8625-44fc-8c5f-d5aa84b25d11",
   "metadata": {},
   "outputs": [
    {
     "data": {
      "text/plain": [
       "0.7927519818799547"
      ]
     },
     "execution_count": 4599,
     "metadata": {},
     "output_type": "execute_result"
    }
   ],
   "source": [
    "#### Specificity\n",
    "Specificity = TN/(TN+FP)\n",
    "Specificity"
   ]
  },
  {
   "cell_type": "code",
   "execution_count": 4601,
   "id": "04904c2e-df6f-4631-b55b-a0d59fe069ff",
   "metadata": {},
   "outputs": [
    {
     "name": "stdout",
     "output_type": "stream",
     "text": [
      "0.2072480181200453\n"
     ]
    }
   ],
   "source": [
    "#### False positivity Rate\n",
    "print(FP/(FP+TN))"
   ]
  },
  {
   "cell_type": "code",
   "execution_count": 4603,
   "id": "f3d867b1-3768-44e6-a2db-f2dad3ec3ad7",
   "metadata": {},
   "outputs": [
    {
     "name": "stdout",
     "output_type": "stream",
     "text": [
      "0.7779126213592233\n"
     ]
    }
   ],
   "source": [
    "#### Total positive prediction\n",
    "print(TP/(TP+FP))"
   ]
  },
  {
   "cell_type": "code",
   "execution_count": 4605,
   "id": "819b3071-0cc0-461e-a745-bed6edbb8d5c",
   "metadata": {},
   "outputs": [
    {
     "name": "stdout",
     "output_type": "stream",
     "text": [
      "0.7996953541507997\n"
     ]
    }
   ],
   "source": [
    "### Total False prediction\n",
    "print(TN/(TN+FN))"
   ]
  },
  {
   "cell_type": "code",
   "execution_count": 4607,
   "id": "1452b20d-14f4-4d05-b891-e18a9c002b9c",
   "metadata": {},
   "outputs": [
    {
     "data": {
      "text/plain": [
       "0.7779126213592233"
      ]
     },
     "execution_count": 4607,
     "metadata": {},
     "output_type": "execute_result"
    }
   ],
   "source": [
    "#### Precision\n",
    "precision_score(y_train_pred_final.Lead, y_train_pred_final.Predicted)"
   ]
  },
  {
   "cell_type": "code",
   "execution_count": 4609,
   "id": "ef023593-94d5-4ec8-aa81-b30acd1c658c",
   "metadata": {},
   "outputs": [
    {
     "data": {
      "text/plain": [
       "0.7852184565128624"
      ]
     },
     "execution_count": 4609,
     "metadata": {},
     "output_type": "execute_result"
    }
   ],
   "source": [
    "#### Recall\n",
    "recall_score(y_train_pred_final.Lead, y_train_pred_final.Predicted)"
   ]
  },
  {
   "cell_type": "code",
   "execution_count": 4577,
   "id": "23b58379-b0b3-4fe0-8ca0-a21ecfd8f5bf",
   "metadata": {},
   "outputs": [
    {
     "data": {
      "image/png": "[encoded data removed]",
      "text/plain": [
       "<Figure size 1200x800 with 2 Axes>"
      ]
     },
     "metadata": {},
     "output_type": "display_data"
    }
   ],
   "source": [
    "plt.figure(figsize=(12,8))\n",
    "sns.heatmap(X_train_sm.corr(), annot=True, cmap=\"YlGn\")\n",
    "plt.show()"
   ]
  },
  {
   "cell_type": "code",
   "execution_count": 4611,
   "id": "67c25152-3e67-4e26-8672-03a7f78d270f",
   "metadata": {},
   "outputs": [],
   "source": [
    "#### Precision & Recall curve\n",
    "p, r, thresholds = precision_recall_curve(y_train_pred_final.Lead, y_train_pred_final.Lead_prob)"
   ]
  },
  {
   "cell_type": "code",
   "execution_count": 4613,
   "id": "9082aff7-1afa-4ea8-8eb2-b64c9cab5cfc",
   "metadata": {},
   "outputs": [
    {
     "data": {
      "image/png": "[encoded data removed]",
      "text/plain": [
       "<Figure size 640x480 with 1 Axes>"
      ]
     },
     "metadata": {},
     "output_type": "display_data"
    }
   ],
   "source": [
    "plt.plot(thresholds, p[:-1], \"g-\")\n",
    "plt.plot(thresholds, r[:-1], \"r-\")\n",
    "plt.show()"
   ]
  },
  {
   "cell_type": "markdown",
   "id": "d4714c2b-566c-438d-b061-70e0fff30a10",
   "metadata": {},
   "source": [
    "### Making predictions on the Test set"
   ]
  },
  {
   "cell_type": "code",
   "execution_count": 4364,
   "id": "cc9c29d4-9e95-4f3e-a53a-68cfa7d22552",
   "metadata": {},
   "outputs": [],
   "source": [
    "#### Scaling test set\n",
    "X_test[[\"TotalVisits\", \"Total Time Spent on Website\", \"Page Views Per Visit\"]] = scaler.fit_transform(X_test[[\"TotalVisits\", \"Total Time Spent on Website\", \"Page Views Per Visit\"]])"
   ]
  },
  {
   "cell_type": "code",
   "execution_count": 4365,
   "id": "f181da21-cbab-4c73-b760-a14a2438dcb6",
   "metadata": {},
   "outputs": [],
   "source": [
    "X_test = X_test[cols]"
   ]
  },
  {
   "cell_type": "code",
   "execution_count": 4366,
   "id": "baff22d9-1cea-404a-9abe-c11323cfe182",
   "metadata": {},
   "outputs": [],
   "source": [
    "X_test_sm = sm.add_constant(X_test)"
   ]
  },
  {
   "cell_type": "code",
   "execution_count": 4367,
   "id": "d29e943d-24ec-45b4-a42f-6fe7036b3199",
   "metadata": {},
   "outputs": [],
   "source": [
    "y_test_pred = res5.predict(X_test_sm)"
   ]
  },
  {
   "cell_type": "code",
   "execution_count": 4368,
   "id": "25fc0cc1-01d6-47ea-a00a-1e275d34870f",
   "metadata": {},
   "outputs": [],
   "source": [
    "### converting y_test_pred to data frame\n",
    "y_pred_l = pd.DataFrame(y_test_pred)"
   ]
  },
  {
   "cell_type": "code",
   "execution_count": 4369,
   "id": "af545a96-3b11-468b-855c-d9fa12b8e890",
   "metadata": {},
   "outputs": [],
   "source": [
    "### converting y_test to data frame\n",
    "y_test_df = pd.DataFrame(y_test)"
   ]
  },
  {
   "cell_type": "code",
   "execution_count": 4370,
   "id": "a4a1c3c5-a912-48a0-9ff4-fc592de0ec8f",
   "metadata": {},
   "outputs": [
    {
     "data": {
      "text/html": [
       "<div>\n",
       "<style scoped>\n",
       "    .dataframe tbody tr th:only-of-type {\n",
       "        vertical-align: middle;\n",
       "    }\n",
       "\n",
       "    .dataframe tbody tr th {\n",
       "        vertical-align: top;\n",
       "    }\n",
       "\n",
       "    .dataframe thead th {\n",
       "        text-align: right;\n",
       "    }\n",
       "</style>\n",
       "<table border=\"1\" class=\"dataframe\">\n",
       "  <thead>\n",
       "    <tr style=\"text-align: right;\">\n",
       "      <th></th>\n",
       "      <th>Converted</th>\n",
       "      <th>Lead Number</th>\n",
       "    </tr>\n",
       "  </thead>\n",
       "  <tbody>\n",
       "    <tr>\n",
       "      <th>4771</th>\n",
       "      <td>1</td>\n",
       "      <td>4771</td>\n",
       "    </tr>\n",
       "    <tr>\n",
       "      <th>6122</th>\n",
       "      <td>0</td>\n",
       "      <td>6122</td>\n",
       "    </tr>\n",
       "    <tr>\n",
       "      <th>9202</th>\n",
       "      <td>0</td>\n",
       "      <td>9202</td>\n",
       "    </tr>\n",
       "    <tr>\n",
       "      <th>6570</th>\n",
       "      <td>1</td>\n",
       "      <td>6570</td>\n",
       "    </tr>\n",
       "    <tr>\n",
       "      <th>2668</th>\n",
       "      <td>1</td>\n",
       "      <td>2668</td>\n",
       "    </tr>\n",
       "  </tbody>\n",
       "</table>\n",
       "</div>"
      ],
      "text/plain": [
       "      Converted  Lead Number\n",
       "4771          1         4771\n",
       "6122          0         6122\n",
       "9202          0         9202\n",
       "6570          1         6570\n",
       "2668          1         2668"
      ]
     },
     "execution_count": 4370,
     "metadata": {},
     "output_type": "execute_result"
    }
   ],
   "source": [
    "### Putting Lead Number to y_test\n",
    "y_test_df[\"Lead Number\"] = y_test_df.index\n",
    "y_test_df.head()"
   ]
  },
  {
   "cell_type": "code",
   "execution_count": 4371,
   "id": "f40c95e9-96c1-43d2-9a29-7f5592ccce6f",
   "metadata": {},
   "outputs": [],
   "source": [
    "#### Removing index in both the data frames\n",
    "y_pred_l.reset_index(drop=True, inplace=True)\n",
    "y_test_df.reset_index(drop=True, inplace=True)"
   ]
  },
  {
   "cell_type": "code",
   "execution_count": 4372,
   "id": "bea416b1-6125-496d-ba75-93017a921562",
   "metadata": {},
   "outputs": [
    {
     "data": {
      "text/html": [
       "<div>\n",
       "<style scoped>\n",
       "    .dataframe tbody tr th:only-of-type {\n",
       "        vertical-align: middle;\n",
       "    }\n",
       "\n",
       "    .dataframe tbody tr th {\n",
       "        vertical-align: top;\n",
       "    }\n",
       "\n",
       "    .dataframe thead th {\n",
       "        text-align: right;\n",
       "    }\n",
       "</style>\n",
       "<table border=\"1\" class=\"dataframe\">\n",
       "  <thead>\n",
       "    <tr style=\"text-align: right;\">\n",
       "      <th></th>\n",
       "      <th>Converted</th>\n",
       "      <th>Lead Number</th>\n",
       "      <th>0</th>\n",
       "    </tr>\n",
       "  </thead>\n",
       "  <tbody>\n",
       "    <tr>\n",
       "      <th>0</th>\n",
       "      <td>1</td>\n",
       "      <td>4771</td>\n",
       "      <td>0.995907</td>\n",
       "    </tr>\n",
       "    <tr>\n",
       "      <th>1</th>\n",
       "      <td>0</td>\n",
       "      <td>6122</td>\n",
       "      <td>0.229912</td>\n",
       "    </tr>\n",
       "    <tr>\n",
       "      <th>2</th>\n",
       "      <td>0</td>\n",
       "      <td>9202</td>\n",
       "      <td>0.794500</td>\n",
       "    </tr>\n",
       "    <tr>\n",
       "      <th>3</th>\n",
       "      <td>1</td>\n",
       "      <td>6570</td>\n",
       "      <td>0.407151</td>\n",
       "    </tr>\n",
       "    <tr>\n",
       "      <th>4</th>\n",
       "      <td>1</td>\n",
       "      <td>2668</td>\n",
       "      <td>0.864996</td>\n",
       "    </tr>\n",
       "  </tbody>\n",
       "</table>\n",
       "</div>"
      ],
      "text/plain": [
       "   Converted  Lead Number         0\n",
       "0          1         4771  0.995907\n",
       "1          0         6122  0.229912\n",
       "2          0         9202  0.794500\n",
       "3          1         6570  0.407151\n",
       "4          1         2668  0.864996"
      ]
     },
     "execution_count": 4372,
     "metadata": {},
     "output_type": "execute_result"
    }
   ],
   "source": [
    "#### appending y_pred_l & y_test_df\n",
    "y_pred_final = pd.concat([y_test_df, y_pred_l], axis=1)\n",
    "y_pred_final.head()"
   ]
  },
  {
   "cell_type": "code",
   "execution_count": 4373,
   "id": "9676270d-a8a5-4de7-af05-261d9ae7692e",
   "metadata": {},
   "outputs": [],
   "source": [
    "### renaming column 0 to Lead_Prob\n",
    "y_pred_final = y_pred_final.rename(columns={\"Converted\": \"Lead\", 0: \"Lead_Prob\"})"
   ]
  },
  {
   "cell_type": "code",
   "execution_count": 4374,
   "id": "0defe67e-392d-4512-b920-3833f6c170fd",
   "metadata": {},
   "outputs": [],
   "source": [
    "### re-arranging the columns\n",
    "y_pred_final = y_pred_final.reindex([\"Lead Number\", \"Lead\", \"Lead_Prob\"], axis=1)"
   ]
  },
  {
   "cell_type": "code",
   "execution_count": 4615,
   "id": "4d7fcbe6-840f-4228-a09a-00bd6898e177",
   "metadata": {},
   "outputs": [],
   "source": [
    "y_pred_final[\"final_predicted\"] = y_pred_final.Lead_Prob.map(lambda x: 1 if x > 0.43 else 0)"
   ]
  },
  {
   "cell_type": "code",
   "execution_count": 4617,
   "id": "09cb623a-4351-41b5-8ffd-d1803294b812",
   "metadata": {},
   "outputs": [
    {
     "data": {
      "text/plain": [
       "0.7631372549019608"
      ]
     },
     "execution_count": 4617,
     "metadata": {},
     "output_type": "execute_result"
    }
   ],
   "source": [
    "#### accuracy score of test dataset\n",
    "accuracy_test = metrics.accuracy_score(y_pred_final.Lead, y_pred_final.final_predicted)\n",
    "accuracy_test"
   ]
  },
  {
   "cell_type": "code",
   "execution_count": 4619,
   "id": "f3ec9552-faa2-47d7-bbe2-d1d6938360a8",
   "metadata": {},
   "outputs": [
    {
     "data": {
      "text/plain": [
       "array([[463, 196],\n",
       "       [106, 510]], dtype=int64)"
      ]
     },
     "execution_count": 4619,
     "metadata": {},
     "output_type": "execute_result"
    }
   ],
   "source": [
    "#### confusion matrix of test dataset\n",
    "confusion_test = metrics.confusion_matrix(y_pred_final.Lead, y_pred_final.final_predicted)\n",
    "confusion_test"
   ]
  },
  {
   "cell_type": "code",
   "execution_count": 4621,
   "id": "c5d85a4d-50e5-43e4-bdef-c9326e5b8a5a",
   "metadata": {},
   "outputs": [],
   "source": [
    "TP_test = confusion_test[1,1]\n",
    "TN_test = confusion_test[0,0]\n",
    "FP_test = confusion_test[0,1]\n",
    "FN_test = confusion_test[1,0]"
   ]
  },
  {
   "cell_type": "code",
   "execution_count": 4623,
   "id": "f18bff2e-b9ab-41b2-af9b-96b38a288e7d",
   "metadata": {},
   "outputs": [
    {
     "name": "stdout",
     "output_type": "stream",
     "text": [
      "0.827922077922078\n"
     ]
    }
   ],
   "source": [
    "#### Sensitivity of test dataset\n",
    "print(TP_test/(TP_test + FN_test))"
   ]
  },
  {
   "cell_type": "code",
   "execution_count": 4625,
   "id": "302933e4-94f1-4dbe-a42e-d796c0c20f3a",
   "metadata": {},
   "outputs": [
    {
     "name": "stdout",
     "output_type": "stream",
     "text": [
      "0.7025796661608498\n"
     ]
    }
   ],
   "source": [
    "### Specificity of test\n",
    "print(TN_test/(TN_test + FP_test))"
   ]
  },
  {
   "cell_type": "code",
   "execution_count": 4628,
   "id": "e34faf6c-d68d-4e67-a8ee-da24fa8442e4",
   "metadata": {},
   "outputs": [
    {
     "name": "stdout",
     "output_type": "stream",
     "text": [
      "0.29742033383915023\n"
     ]
    }
   ],
   "source": [
    "#### False positivity Rate\n",
    "print(FP_test/(FP_test+TN_test))"
   ]
  },
  {
   "cell_type": "code",
   "execution_count": 4630,
   "id": "c3082344-c18d-4c7e-b617-0053703e49b3",
   "metadata": {},
   "outputs": [
    {
     "name": "stdout",
     "output_type": "stream",
     "text": [
      "0.7223796033994334\n"
     ]
    }
   ],
   "source": [
    "#### Total positive prediction\n",
    "print(TP_test/(TP_test+FP_test))"
   ]
  },
  {
   "cell_type": "code",
   "execution_count": 4632,
   "id": "7dd890f7-5a66-418f-b9a3-9b660f055db5",
   "metadata": {},
   "outputs": [
    {
     "name": "stdout",
     "output_type": "stream",
     "text": [
      "0.8137082601054482\n"
     ]
    }
   ],
   "source": [
    "### Total False prediction\n",
    "print(TN_test/(TN_test+FN_test))"
   ]
  },
  {
   "cell_type": "code",
   "execution_count": 4636,
   "id": "d970ab32-0908-4383-8ce0-a77361c467c9",
   "metadata": {},
   "outputs": [
    {
     "data": {
      "text/plain": [
       "0.7223796033994334"
      ]
     },
     "execution_count": 4636,
     "metadata": {},
     "output_type": "execute_result"
    }
   ],
   "source": [
    "#### Precision\n",
    "precision_score(y_pred_final.Lead, y_pred_final.final_predicted)"
   ]
  },
  {
   "cell_type": "code",
   "execution_count": 4638,
   "id": "a968b69f-aa38-4dc0-aa08-7e5b7b36bcff",
   "metadata": {},
   "outputs": [
    {
     "data": {
      "text/plain": [
       "0.827922077922078"
      ]
     },
     "execution_count": 4638,
     "metadata": {},
     "output_type": "execute_result"
    }
   ],
   "source": [
    "#### Recall\n",
    "recall_score(y_pred_final.Lead, y_pred_final.final_predicted)"
   ]
  },
  {
   "cell_type": "code",
   "execution_count": null,
   "id": "4c130396-37f3-443c-a27c-2c0c55f16f93",
   "metadata": {},
   "outputs": [],
   "source": []
  }
 ],
 "metadata": {
  "kernelspec": {
   "display_name": "Python 3 (ipykernel)",
   "language": "python",
   "name": "python3"
  },
  "language_info": {
   "codemirror_mode": {
    "name": "ipython",
    "version": 3
   },
   "file_extension": ".py",
   "mimetype": "text/x-python",
   "name": "python",
   "nbconvert_exporter": "python",
   "pygments_lexer": "ipython3",
   "version": "3.11.7"
  }
 },
 "nbformat": 4,
 "nbformat_minor": 5
}
